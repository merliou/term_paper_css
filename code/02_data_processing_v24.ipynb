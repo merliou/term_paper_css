{
  "nbformat": 4,
  "nbformat_minor": 0,
  "metadata": {
    "colab": {
      "provenance": []
    },
    "kernelspec": {
      "name": "python3",
      "display_name": "Python 3"
    },
    "language_info": {
      "name": "python"
    }
  },
  "cells": [
    {
      "cell_type": "markdown",
      "source": [
        "Abhängigkeiten installieren und Packages laden"
      ],
      "metadata": {
        "id": "4_dqpQXVgm65"
      }
    },
    {
      "cell_type": "code",
      "source": [
        "!pip install pandas\n",
        "!pip install numpy\n",
        "\n",
        "import pandas as pd\n",
        "import numpy as np\n",
        "\n",
        "# wenn es nicht läuft runtime neu starten"
      ],
      "metadata": {
        "id": "hLdud861gp-d",
        "outputId": "a930f51a-7087-4d71-b24d-4968329ac760",
        "colab": {
          "base_uri": "https://localhost:8080/"
        },
        "collapsed": true
      },
      "execution_count": 1,
      "outputs": [
        {
          "output_type": "stream",
          "name": "stdout",
          "text": [
            "Requirement already satisfied: pandas in /usr/local/lib/python3.11/dist-packages (2.2.2)\n",
            "Requirement already satisfied: numpy>=1.23.2 in /usr/local/lib/python3.11/dist-packages (from pandas) (2.0.2)\n",
            "Requirement already satisfied: python-dateutil>=2.8.2 in /usr/local/lib/python3.11/dist-packages (from pandas) (2.8.2)\n",
            "Requirement already satisfied: pytz>=2020.1 in /usr/local/lib/python3.11/dist-packages (from pandas) (2025.1)\n",
            "Requirement already satisfied: tzdata>=2022.7 in /usr/local/lib/python3.11/dist-packages (from pandas) (2025.1)\n",
            "Requirement already satisfied: six>=1.5 in /usr/local/lib/python3.11/dist-packages (from python-dateutil>=2.8.2->pandas) (1.17.0)\n",
            "Requirement already satisfied: numpy in /usr/local/lib/python3.11/dist-packages (2.0.2)\n"
          ]
        }
      ]
    },
    {
      "cell_type": "markdown",
      "source": [
        "Subsets zusammenführen, Dopplungen entfernen"
      ],
      "metadata": {
        "id": "QHYGkuc0qYJ8"
      }
    },
    {
      "cell_type": "code",
      "source": [
        "csv_data_raw = [r'/content/4_1_ergebnisse.csv', r'/content/4_2_ergebnisse.csv', r'/content/4_3_ergebnisse.csv', r'/content/4_4_ergebnisse.csv']\n",
        "\n",
        "csv_pfad = '/content/05_csv_data_raw.csv' # nicht wundern, hatte datei zwischenzeitlich umbenannt\n",
        "\n",
        "csv_no_doubles_pfad = '/content/06_data_raw_no_doubles.csv'\n",
        "\n",
        "df = pd.concat((pd.read_csv(f) for f in csv_data_raw), ignore_index=True)\n",
        "\n",
        "df.to_csv('csv_data_raw.csv', index=False)\n",
        "\n",
        "def entferne_doppelte_rezensionen(csv_pfad, anzahl_rezensionen=5):\n",
        "    df = pd.read_csv(csv_pfad)\n",
        "\n",
        "    # Doppelte Rezensionen basierend auf place_id und rezension entfernen\n",
        "    df = df.drop_duplicates(subset=['place_id', 'rezension'], keep='first')\n",
        "\n",
        "    # Anzahl der Rezensionen pro Ort begrenzen\n",
        "    df = df.groupby('place_id').head(anzahl_rezensionen).reset_index(drop=True)\n",
        "\n",
        "    return df\n",
        "\n",
        "# Funktionsaufruf\n",
        "ergebnis_df = entferne_doppelte_rezensionen(csv_pfad)\n",
        "\n",
        "# Das bereinigte DataFrame anzeigen (optional)\n",
        "print(ergebnis_df)\n",
        "\n",
        "# Das bereinigte DataFrame in eine neue CSV-Datei speichern (optional)\n",
        "ergebnis_df.to_csv(\"06_data_raw_no_doubles.csv\", index=False)"
      ],
      "metadata": {
        "id": "Slx22u6-qeVa"
      },
      "execution_count": null,
      "outputs": []
    },
    {
      "cell_type": "markdown",
      "source": [
        "\\#2 (Freitag, 28/03) - erweitertes Datenset, doubles entfernen"
      ],
      "metadata": {
        "id": "wi8y5W2Jg7XF"
      }
    },
    {
      "cell_type": "code",
      "source": [
        "csv_pfad = '/content/09_data_covariates_avg.csv' # nicht wundern, hatte datei zwischenzeitlich umbenannt\n",
        "\n",
        "csv_no_doubles_pfad = '/content/10_data_covs_avg_no_doubles.csv'\n",
        "\n",
        "def entferne_doppelte_rezensionen(csv_pfad, anzahl_rezensionen=5):\n",
        "    df = pd.read_csv(csv_pfad)\n",
        "\n",
        "    # Doppelte Rezensionen basierend auf place_id und rezension entfernen\n",
        "    df = df.drop_duplicates(subset=['place_id', 'rezension'], keep='first')\n",
        "\n",
        "    # Anzahl der Rezensionen pro Ort begrenzen\n",
        "    df = df.groupby('place_id').head(anzahl_rezensionen).reset_index(drop=True)\n",
        "\n",
        "    return df\n",
        "\n",
        "# Funktionsaufruf\n",
        "ergebnis_df = entferne_doppelte_rezensionen(csv_pfad)\n",
        "\n",
        "# Das bereinigte DataFrame anzeigen (optional)\n",
        "print(ergebnis_df)\n",
        "\n",
        "# Das bereinigte DataFrame in eine neue CSV-Datei speichern (optional)\n",
        "ergebnis_df.to_csv(\"10_data_covs_avg_no_doubles.csv\", index=False)"
      ],
      "metadata": {
        "id": "-i9jRcNag6qX",
        "outputId": "7f23cfee-0805-408a-bd1b-fa7948c9d82a",
        "colab": {
          "base_uri": "https://localhost:8080/"
        }
      },
      "execution_count": 2,
      "outputs": [
        {
          "output_type": "stream",
          "name": "stdout",
          "text": [
            "                                                     ort  \\\n",
            "0      DIAKO Krankenhaus gGmbH, Knuthstraße 1, Flensburg   \n",
            "1      DIAKO Krankenhaus gGmbH, Knuthstraße 1, Flensburg   \n",
            "2      DIAKO Krankenhaus gGmbH, Knuthstraße 1, Flensburg   \n",
            "3      DIAKO Krankenhaus gGmbH, Knuthstraße 1, Flensburg   \n",
            "4      DIAKO Krankenhaus gGmbH, Knuthstraße 1, Flensburg   \n",
            "...                                                  ...   \n",
            "11777  Klinikum Altenburger Land GmbH, Am Waldessaum ...   \n",
            "11778  Klinikum Altenburger Land GmbH, Am Waldessaum ...   \n",
            "11779  Klinikum Altenburger Land GmbH, Am Waldessaum ...   \n",
            "11780  Klinikum Altenburger Land GmbH, Am Waldessaum ...   \n",
            "11781  Klinikum Altenburger Land GmbH, Am Waldessaum ...   \n",
            "\n",
            "                               name_x        strasze hausnr      stadt  \\\n",
            "0             DIAKO Krankenhaus gGmbH    Knuthstraße      1  Flensburg   \n",
            "1             DIAKO Krankenhaus gGmbH    Knuthstraße      1  Flensburg   \n",
            "2             DIAKO Krankenhaus gGmbH    Knuthstraße      1  Flensburg   \n",
            "3             DIAKO Krankenhaus gGmbH    Knuthstraße      1  Flensburg   \n",
            "4             DIAKO Krankenhaus gGmbH    Knuthstraße      1  Flensburg   \n",
            "...                               ...            ...    ...        ...   \n",
            "11777  Klinikum Altenburger Land GmbH  Am Waldessaum     10  Altenburg   \n",
            "11778  Klinikum Altenburger Land GmbH  Am Waldessaum     10  Altenburg   \n",
            "11779  Klinikum Altenburger Land GmbH  Am Waldessaum     10  Altenburg   \n",
            "11780  Klinikum Altenburger Land GmbH  Am Waldessaum     10  Altenburg   \n",
            "11781  Klinikum Altenburger Land GmbH  Am Waldessaum     10  Altenburg   \n",
            "\n",
            "       bundesland                     place_id  bewertung  \\\n",
            "0             1.0  ChIJU6MRELlCs0cRaU7ePDewy34          5   \n",
            "1             1.0  ChIJU6MRELlCs0cRaU7ePDewy34          5   \n",
            "2             1.0  ChIJU6MRELlCs0cRaU7ePDewy34          5   \n",
            "3             1.0  ChIJU6MRELlCs0cRaU7ePDewy34          1   \n",
            "4             1.0  ChIJU6MRELlCs0cRaU7ePDewy34          1   \n",
            "...           ...                          ...        ...   \n",
            "11777        16.0  ChIJ9yvAKoIgp0cRQCruo2WSxyU          5   \n",
            "11778        16.0  ChIJ9yvAKoIgp0cRQCruo2WSxyU          5   \n",
            "11779        16.0  ChIJ9yvAKoIgp0cRQCruo2WSxyU          5   \n",
            "11780        16.0  ChIJ9yvAKoIgp0cRQCruo2WSxyU          5   \n",
            "11781        16.0  ChIJ9yvAKoIgp0cRQCruo2WSxyU          5   \n",
            "\n",
            "                                               rezension  \\\n",
            "0      Von A-Z positiv. Teil 1\\nVom Reinigungspersona...   \n",
            "1      Ich kann die vielen schlechten Rezensionen übe...   \n",
            "2      Ich bin total begeistert von dem Personal  auf...   \n",
            "3      Enttäuschende Erfahrung in der Notaufnahme\\n\\n...   \n",
            "4      Das Personal in der Aufnahme ist überfordert u...   \n",
            "...                                                  ...   \n",
            "11777  Meine 81 Jährige Mutter wurde auf Station 24 b...   \n",
            "11778  Absolut zufrieden mit dem Service und vorallem...   \n",
            "11779  Ich kann jetzt nur für Kreißsaal sowie Station...   \n",
            "11780  Durch das schnelle und kompetente Handeln alle...   \n",
            "11781  Vielen lieben Dank an das gesamte Team der Sta...   \n",
            "\n",
            "                       zeit  ...  Allgemeine_Notfallversorgung  \\\n",
            "0           vor einer Woche  ...                           2.0   \n",
            "1              vor 3 Wochen  ...                           2.0   \n",
            "2           vor einer Woche  ...                           2.0   \n",
            "3              vor 2 Wochen  ...                           2.0   \n",
            "4      in der letzten Woche  ...                           2.0   \n",
            "...                     ...  ...                           ...   \n",
            "11777          vor 2 Wochen  ...                           3.0   \n",
            "11778       vor einem Monat  ...                           3.0   \n",
            "11779         vor 2 Monaten  ...                           3.0   \n",
            "11780         vor 2 Monaten  ...                           3.0   \n",
            "11781         vor 4 Monaten  ...                           3.0   \n",
            "\n",
            "      Spezielle_Notfallversorgung_Schwerverletzte  \\\n",
            "0                                               1   \n",
            "1                                               1   \n",
            "2                                               1   \n",
            "3                                               1   \n",
            "4                                               1   \n",
            "...                                           ...   \n",
            "11777                                           2   \n",
            "11778                                           2   \n",
            "11779                                           2   \n",
            "11780                                           2   \n",
            "11781                                           2   \n",
            "\n",
            "       Spezielle_Notfallversorgung_Kinder  \\\n",
            "0                                       1   \n",
            "1                                       1   \n",
            "2                                       1   \n",
            "3                                       1   \n",
            "4                                       1   \n",
            "...                                   ...   \n",
            "11777                                   1   \n",
            "11778                                   1   \n",
            "11779                                   1   \n",
            "11780                                   1   \n",
            "11781                                   1   \n",
            "\n",
            "       Spezielle_Notfallversorgung_Spezial  \\\n",
            "0                                        2   \n",
            "1                                        2   \n",
            "2                                        2   \n",
            "3                                        2   \n",
            "4                                        2   \n",
            "...                                    ...   \n",
            "11777                                    2   \n",
            "11778                                    2   \n",
            "11779                                    2   \n",
            "11780                                    2   \n",
            "11781                                    2   \n",
            "\n",
            "       Spezielle_Notfallversorgung_Schlaganfall  \\\n",
            "0                                             1   \n",
            "1                                             1   \n",
            "2                                             1   \n",
            "3                                             1   \n",
            "4                                             1   \n",
            "...                                         ...   \n",
            "11777                                         2   \n",
            "11778                                         2   \n",
            "11779                                         2   \n",
            "11780                                         2   \n",
            "11781                                         2   \n",
            "\n",
            "       Spezielle_Notfallversorgung_Durchblutung_Herz  INSG  rating  \\\n",
            "0                                                  2   400     2.8   \n",
            "1                                                  2   400     2.8   \n",
            "2                                                  2   400     2.8   \n",
            "3                                                  2   400     2.8   \n",
            "4                                                  2   400     2.8   \n",
            "...                                              ...   ...     ...   \n",
            "11777                                              2   444     3.8   \n",
            "11778                                              2   444     3.8   \n",
            "11779                                              2   444     3.8   \n",
            "11780                                              2   444     3.8   \n",
            "11781                                              2   444     3.8   \n",
            "\n",
            "       total_ratings                          name_y  \n",
            "0                560     DIAKO Krankenhaus Flensburg  \n",
            "1                560     DIAKO Krankenhaus Flensburg  \n",
            "2                560     DIAKO Krankenhaus Flensburg  \n",
            "3                560     DIAKO Krankenhaus Flensburg  \n",
            "4                560     DIAKO Krankenhaus Flensburg  \n",
            "...              ...                             ...  \n",
            "11777            270  Klinikum Altenburger Land GmbH  \n",
            "11778            270  Klinikum Altenburger Land GmbH  \n",
            "11779            270  Klinikum Altenburger Land GmbH  \n",
            "11780            270  Klinikum Altenburger Land GmbH  \n",
            "11781            270  Klinikum Altenburger Land GmbH  \n",
            "\n",
            "[11782 rows x 23 columns]\n"
          ]
        }
      ]
    },
    {
      "cell_type": "markdown",
      "source": [
        "Nur Dopplungen entfernen"
      ],
      "metadata": {
        "id": "wGeRB81Ngeto"
      }
    },
    {
      "cell_type": "markdown",
      "source": [
        "Validierung der automatischen Abrufe: Zufallsstichprobe & manueller Abgleich"
      ],
      "metadata": {
        "id": "3kNZuQ7Ll3F3"
      }
    },
    {
      "cell_type": "code",
      "source": [
        "df = pd.read_csv(csv_no_doubles_pfad) #siehe oben\n",
        "\n",
        "def zufallsstichprobe(csv_pfad, stichprobengroesse=100, zufalls_seed=42): #seed 42\n",
        "    df = pd.read_csv(csv_no_doubles_pfad)\n",
        "\n",
        "    # Zufallsstichprobe ziehen\n",
        "    stichprobe_df = df.sample(n=min(stichprobengroesse, len(df)), random_state=zufalls_seed)\n",
        "\n",
        "    return stichprobe_df\n",
        "\n",
        "# Beispielaufruf:\n",
        "csv_datei = csv_no_doubles_pfad # Ersetzen Sie dies durch den tatsächlichen Dateinamen\n",
        "stichprobe = zufallsstichprobe(csv_datei, stichprobengroesse=100, zufalls_seed=42)\n",
        "\n",
        "# Die Stichprobe in eine neue CSV-Datei speichern (optional):\n",
        "stichprobe.to_csv(\"07_stichprobe_validierung.csv\", index=False)\n",
        "\n",
        "# Validierung manuell durchgeführt, für Kriterien siehe Hausarbeit;\n",
        "# Kodierung: 1 = valid; 0 = not valid or valid with restrictions;\n",
        "\n",
        "\n",
        "########## hier noch die Ergebnisse ausrechnen ###############"
      ],
      "metadata": {
        "id": "FijvKwsZl-Km",
        "outputId": "77c2fb07-3915-4c6e-b806-7d0bfbb8d10c",
        "colab": {
          "base_uri": "https://localhost:8080/"
        },
        "collapsed": true
      },
      "execution_count": null,
      "outputs": [
        {
          "output_type": "stream",
          "name": "stdout",
          "text": [
            "                                                     ort  \\\n",
            "2507   Alexius/Josef Krankenhaus, Montanusstraße 54, ...   \n",
            "11482  Sophien- und Hufeland-Klinikum gGmbH, Henry-va...   \n",
            "4207   Ev. Krankenhaus Lippstadt, Wiedenbrücker Straß...   \n",
            "1935   Rotes-Kreuz-Krankenhaus Bremen gGmbH, St.-Paul...   \n",
            "7768   Klinik Dr. Wilhelm, Hans-Urmiller-Ring 46, Wol...   \n",
            "...                                                  ...   \n",
            "10769  Hauptstandort Rudolf-Virchow-Klinikum, Virchow...   \n",
            "10563  Sana HANSE-Klinikum Wismar GmbH, Dr.-Unruh-Str...   \n",
            "8830   Bezirksklinikum Ansbach, Paracelsusstraße 36, ...   \n",
            "5006   Helios Kliniken Kassel, Hansteinstraße 29, Kassel   \n",
            "4216       LWL-Klinik Lippstadt, Im Hofholz 6, Lippstadt   \n",
            "\n",
            "                                        name                    strasze  \\\n",
            "2507               Alexius/Josef Krankenhaus             Montanusstraße   \n",
            "11482   Sophien- und Hufeland-Klinikum gGmbH  Henry-van-de-Velde-Straße   \n",
            "4207               Ev. Krankenhaus Lippstadt       Wiedenbrücker Straße   \n",
            "1935    Rotes-Kreuz-Krankenhaus Bremen gGmbH            St.-Pauli-Deich   \n",
            "7768                      Klinik Dr. Wilhelm         Hans-Urmiller-Ring   \n",
            "...                                      ...                        ...   \n",
            "10769  Hauptstandort Rudolf-Virchow-Klinikum                Virchowstr.   \n",
            "10563        Sana HANSE-Klinikum Wismar GmbH           Dr.-Unruh-Straße   \n",
            "8830                 Bezirksklinikum Ansbach           Paracelsusstraße   \n",
            "5006                  Helios Kliniken Kassel             Hansteinstraße   \n",
            "4216                    LWL-Klinik Lippstadt                 Im Hofholz   \n",
            "\n",
            "      hausnr                 stadt  bundesland                     place_id  \\\n",
            "2507      54          Grevenbroich         5.0  ChIJw7FzZxBMv0cRjlEgBW8E8q8   \n",
            "11482      2                Weimar        16.0  ChIJsXwo-S0FpEcRFkfrck38uL4   \n",
            "4207      33             Lippstadt         5.0  ChIJN-EgMv_Su0cR59EAVFIp7Og   \n",
            "1935     NaN                Bremen         4.0  ChIJh7ETvx4osUcRyTTKEulnwVw   \n",
            "7768      46        Wolfratshausen         9.0  ChIJzyXJjKPGnUcR6pbD81dI7JU   \n",
            "...      ...                   ...         ...                          ...   \n",
            "10769     18              Glauchau        14.0  ChIJ0a9ezKQvp0cR9LyxJpurJao   \n",
            "10563     14                Wismar        13.0  ChIJJzo-TVjHrUcRswybCjK0bIU   \n",
            "8830      36  Neustadt a. d. Aisch         9.0  ChIJn58c59kLokcRVMusIFGWHLw   \n",
            "5006      29                Kassel         6.0  ChIJtwosb2U_u0cRF_gesuG38XE   \n",
            "4216       6             Lippstadt         5.0  ChIJ_fI8VCTUu0cRnlWefvOgJPQ   \n",
            "\n",
            "       bewertung                                          rezension  \\\n",
            "2507           5  Bin die fünfte Woche in der Tagesklinik St. Au...   \n",
            "11482          5  Ich mußte eine OP in der Tagesklinik machen la...   \n",
            "4207           1  Leider wurde uns in der Notfallambulanz überha...   \n",
            "1935           5  Mein Vater wurde letzte Woche an der Hals-Ober...   \n",
            "7768           5  Ich war wegen einer OP durch meine Chirurgin i...   \n",
            "...          ...                                                ...   \n",
            "10769          5  Haben hier vor kurzem entbunden. Alles war top...   \n",
            "10563          1  Wer die Möglichkeit besitzt sollte dringend ei...   \n",
            "8830           5  Beste Einrichtung im Universum\\nAls Ich hier a...   \n",
            "5006           1  Mein Mann wurde morgens etwa um 10 Uhr aufgrun...   \n",
            "4216           5  Es war im Jahr 2020. Nichts ging mehr. Nicht g...   \n",
            "\n",
            "                       zeit  \n",
            "2507           vor 2 Jahren  \n",
            "11482          vor 3 Wochen  \n",
            "4207   in der letzten Woche  \n",
            "1935          vor 3 Monaten  \n",
            "7768        vor einem Monat  \n",
            "...                     ...  \n",
            "10769         vor 2 Monaten  \n",
            "10563       vor einer Woche  \n",
            "8830         vor 10 Monaten  \n",
            "5006        vor einem Monat  \n",
            "4216           vor 2 Jahren  \n",
            "\n",
            "[100 rows x 10 columns]\n"
          ]
        }
      ]
    },
    {
      "cell_type": "markdown",
      "source": [
        "Neues File mit weiteren Covariaten aus dem KHV"
      ],
      "metadata": {
        "id": "TzIPY5jYzaJl"
      }
    },
    {
      "cell_type": "code",
      "source": [
        "# Lade die Krankenhausdaten aus der Excel-Datei\n",
        "khv_df = pd.read_excel('/content/2023_khv.xlsx', sheet_name='Tabelle1')\n",
        "\n",
        "# Lade die Google-Maps-Rezensionen aus der CSV-Datei\n",
        "reviews_df = pd.read_csv('/content/06_data_raw_no_doubles.csv')\n",
        "\n",
        "# Bereinige die Spaltennamen in beiden DataFrames\n",
        "khv_df.columns = khv_df.columns.str.strip()\n",
        "reviews_df.columns = reviews_df.columns.str.strip()\n",
        "\n",
        "#print(khv_df.head())\n",
        "#print(reviews_df.head())\n",
        "#\n",
        "#name = str('Adresse_Name')\n",
        "#strasze = str('Adresse_Strasse_Standort')\n",
        "#hausnr = str('Adresse_Haus-Nr._Standort')\n",
        "#stadt = str('Adresse_Ort_Standort')\n",
        "#ort = f\"{name}, {strasze} {hausnr}, {stadt}\"\n",
        "\n",
        "# Führe die Daten basierend auf dem exakten Krankenhausnamen zusammen\n",
        "merged_df = pd.merge(reviews_df, khv_df, left_on='name', right_on='Adresse_Name', how='left')\n",
        "\n",
        "# Wähle die relevanten Spalten aus, die wir behalten möchten\n",
        "columns_to_keep = [\n",
        "    'ort', 'name', 'strasze', 'hausnr', 'stadt', 'bundesland', 'place_id', 'bewertung', 'rezension', 'zeit',\n",
        "    'Traeger', 'T_Name', 'EinrichtungsTyp', 'Allgemeine_Notfallversorgung',\n",
        "    'Spezielle_Notfallversorgung_Schwerverletzte', 'Spezielle_Notfallversorgung_Kinder',\n",
        "    'Spezielle_Notfallversorgung_Spezial', 'Spezielle_Notfallversorgung_Schlaganfall',\n",
        "    'Spezielle_Notfallversorgung_Durchblutung_Herz', 'INSG'\n",
        "]\n",
        "\n",
        "# Erstelle das finale DataFrame mit den ausgewählten Spalten\n",
        "final_df = merged_df[columns_to_keep]\n",
        "\n",
        "# Speichere das finale DataFrame in eine neue CSV-Datei\n",
        "final_df.to_csv('08_data_and_covariates.csv', index=False, encoding='utf-8-sig')\n",
        "\n",
        "print(\"Die Daten wurden erfolgreich zusammengeführt und in 'merged_krankenhaus_reviews.csv' gespeichert.\")"
      ],
      "metadata": {
        "id": "wtKVf-REzdC1",
        "outputId": "88d5e3a8-0081-4552-ea9e-e9f2ca048fa9",
        "colab": {
          "base_uri": "https://localhost:8080/"
        }
      },
      "execution_count": null,
      "outputs": [
        {
          "output_type": "stream",
          "name": "stdout",
          "text": [
            "Die Daten wurden erfolgreich zusammengeführt und in 'merged_krankenhaus_reviews.csv' gespeichert.\n"
          ]
        }
      ]
    },
    {
      "cell_type": "markdown",
      "source": [
        "initialize BERTopic"
      ],
      "metadata": {
        "id": "SNWhvh0aLyds"
      }
    },
    {
      "cell_type": "code",
      "source": [
        "!pip install pandas numpy bertopic umap-learn scipy scikit-learn numba tqdm pynndescent matplotlib datashader holoviews\n",
        "from bertopic import BERTopic\n",
        "import umap\n",
        "import pandas as pd\n",
        "import numpy as np\n",
        "\n",
        "rezensionen_data = pd.read_csv(\"/content/06_data_raw_no_doubles.csv\", header = None)\n",
        "\n",
        "rezensionen_data['ort'] = rezensionen_data[0]\n",
        "rezensionen_data['bundesland'] = rezensionen_data[5]\n",
        "rezensionen_data['place_id'] = rezensionen_data[6]\n",
        "rezensionen_data['bewertung'] = rezensionen_data[7]\n",
        "rezensionen_data['rezension'] = rezensionen_data[8]\n",
        "rezensionen_data['zeit'] = rezensionen_data[9]\n",
        "\n",
        "rezensionen_data['bundesland'].value_counts()\n",
        "rezensionen_data['zeit'].value_counts()\n",
        "rezensionen_data['bewertung'].value_counts()\n",
        "\n",
        "print(rezensionen_data.iloc[0:3, 3:6]) # Note that Python starts with 0 and excludes last element"
      ],
      "metadata": {
        "id": "WINmnHnxL011",
        "colab": {
          "base_uri": "https://localhost:8080/"
        },
        "outputId": "a8ab85d1-8ab5-4fb6-a89e-ae74603efec7",
        "collapsed": true
      },
      "execution_count": null,
      "outputs": [
        {
          "output_type": "stream",
          "name": "stdout",
          "text": [
            "Requirement already satisfied: pandas in /usr/local/lib/python3.11/dist-packages (2.2.2)\n",
            "Requirement already satisfied: numpy in /usr/local/lib/python3.11/dist-packages (2.0.2)\n",
            "Requirement already satisfied: bertopic in /usr/local/lib/python3.11/dist-packages (0.17.0)\n",
            "Requirement already satisfied: umap-learn in /usr/local/lib/python3.11/dist-packages (0.5.7)\n",
            "Requirement already satisfied: scipy in /usr/local/lib/python3.11/dist-packages (1.14.1)\n",
            "Requirement already satisfied: scikit-learn in /usr/local/lib/python3.11/dist-packages (1.6.1)\n",
            "Requirement already satisfied: numba in /usr/local/lib/python3.11/dist-packages (0.60.0)\n",
            "Requirement already satisfied: tqdm in /usr/local/lib/python3.11/dist-packages (4.67.1)\n",
            "Requirement already satisfied: pynndescent in /usr/local/lib/python3.11/dist-packages (0.5.13)\n",
            "Requirement already satisfied: matplotlib in /usr/local/lib/python3.11/dist-packages (3.10.0)\n",
            "Requirement already satisfied: datashader in /usr/local/lib/python3.11/dist-packages (0.17.0)\n",
            "Requirement already satisfied: holoviews in /usr/local/lib/python3.11/dist-packages (1.20.2)\n",
            "Requirement already satisfied: python-dateutil>=2.8.2 in /usr/local/lib/python3.11/dist-packages (from pandas) (2.8.2)\n",
            "Requirement already satisfied: pytz>=2020.1 in /usr/local/lib/python3.11/dist-packages (from pandas) (2025.1)\n",
            "Requirement already satisfied: tzdata>=2022.7 in /usr/local/lib/python3.11/dist-packages (from pandas) (2025.1)\n",
            "Requirement already satisfied: hdbscan>=0.8.29 in /usr/local/lib/python3.11/dist-packages (from bertopic) (0.8.40)\n",
            "Requirement already satisfied: plotly>=4.7.0 in /usr/local/lib/python3.11/dist-packages (from bertopic) (5.24.1)\n",
            "Requirement already satisfied: sentence-transformers>=0.4.1 in /usr/local/lib/python3.11/dist-packages (from bertopic) (3.4.1)\n",
            "Requirement already satisfied: joblib>=1.2.0 in /usr/local/lib/python3.11/dist-packages (from scikit-learn) (1.4.2)\n",
            "Requirement already satisfied: threadpoolctl>=3.1.0 in /usr/local/lib/python3.11/dist-packages (from scikit-learn) (3.6.0)\n",
            "Requirement already satisfied: llvmlite<0.44,>=0.43.0dev0 in /usr/local/lib/python3.11/dist-packages (from numba) (0.43.0)\n",
            "Requirement already satisfied: contourpy>=1.0.1 in /usr/local/lib/python3.11/dist-packages (from matplotlib) (1.3.1)\n",
            "Requirement already satisfied: cycler>=0.10 in /usr/local/lib/python3.11/dist-packages (from matplotlib) (0.12.1)\n",
            "Requirement already satisfied: fonttools>=4.22.0 in /usr/local/lib/python3.11/dist-packages (from matplotlib) (4.56.0)\n",
            "Requirement already satisfied: kiwisolver>=1.3.1 in /usr/local/lib/python3.11/dist-packages (from matplotlib) (1.4.8)\n",
            "Requirement already satisfied: packaging>=20.0 in /usr/local/lib/python3.11/dist-packages (from matplotlib) (24.2)\n",
            "Requirement already satisfied: pillow>=8 in /usr/local/lib/python3.11/dist-packages (from matplotlib) (11.1.0)\n",
            "Requirement already satisfied: pyparsing>=2.3.1 in /usr/local/lib/python3.11/dist-packages (from matplotlib) (3.2.1)\n",
            "Requirement already satisfied: colorcet in /usr/local/lib/python3.11/dist-packages (from datashader) (3.1.0)\n",
            "Requirement already satisfied: multipledispatch in /usr/local/lib/python3.11/dist-packages (from datashader) (1.0.0)\n",
            "Requirement already satisfied: param in /usr/local/lib/python3.11/dist-packages (from datashader) (2.2.0)\n",
            "Requirement already satisfied: pyct in /usr/local/lib/python3.11/dist-packages (from datashader) (0.5.0)\n",
            "Requirement already satisfied: requests in /usr/local/lib/python3.11/dist-packages (from datashader) (2.32.3)\n",
            "Requirement already satisfied: toolz in /usr/local/lib/python3.11/dist-packages (from datashader) (0.12.1)\n",
            "Requirement already satisfied: xarray in /usr/local/lib/python3.11/dist-packages (from datashader) (2025.1.2)\n",
            "Requirement already satisfied: bokeh>=3.1 in /usr/local/lib/python3.11/dist-packages (from holoviews) (3.6.3)\n",
            "Requirement already satisfied: panel>=1.0 in /usr/local/lib/python3.11/dist-packages (from holoviews) (1.6.1)\n",
            "Requirement already satisfied: pyviz-comms>=2.1 in /usr/local/lib/python3.11/dist-packages (from holoviews) (3.0.4)\n",
            "Requirement already satisfied: Jinja2>=2.9 in /usr/local/lib/python3.11/dist-packages (from bokeh>=3.1->holoviews) (3.1.6)\n",
            "Requirement already satisfied: PyYAML>=3.10 in /usr/local/lib/python3.11/dist-packages (from bokeh>=3.1->holoviews) (6.0.2)\n",
            "Requirement already satisfied: tornado>=6.2 in /usr/local/lib/python3.11/dist-packages (from bokeh>=3.1->holoviews) (6.4.2)\n",
            "Requirement already satisfied: xyzservices>=2021.09.1 in /usr/local/lib/python3.11/dist-packages (from bokeh>=3.1->holoviews) (2025.1.0)\n",
            "Requirement already satisfied: bleach in /usr/local/lib/python3.11/dist-packages (from panel>=1.0->holoviews) (6.2.0)\n",
            "Requirement already satisfied: linkify-it-py in /usr/local/lib/python3.11/dist-packages (from panel>=1.0->holoviews) (2.0.3)\n",
            "Requirement already satisfied: markdown in /usr/local/lib/python3.11/dist-packages (from panel>=1.0->holoviews) (3.7)\n",
            "Requirement already satisfied: markdown-it-py in /usr/local/lib/python3.11/dist-packages (from panel>=1.0->holoviews) (3.0.0)\n",
            "Requirement already satisfied: mdit-py-plugins in /usr/local/lib/python3.11/dist-packages (from panel>=1.0->holoviews) (0.4.2)\n",
            "Requirement already satisfied: typing-extensions in /usr/local/lib/python3.11/dist-packages (from panel>=1.0->holoviews) (4.12.2)\n",
            "Requirement already satisfied: tenacity>=6.2.0 in /usr/local/lib/python3.11/dist-packages (from plotly>=4.7.0->bertopic) (9.0.0)\n",
            "Requirement already satisfied: six>=1.5 in /usr/local/lib/python3.11/dist-packages (from python-dateutil>=2.8.2->pandas) (1.17.0)\n",
            "Requirement already satisfied: transformers<5.0.0,>=4.41.0 in /usr/local/lib/python3.11/dist-packages (from sentence-transformers>=0.4.1->bertopic) (4.49.0)\n",
            "Requirement already satisfied: torch>=1.11.0 in /usr/local/lib/python3.11/dist-packages (from sentence-transformers>=0.4.1->bertopic) (2.6.0+cu124)\n",
            "Requirement already satisfied: huggingface-hub>=0.20.0 in /usr/local/lib/python3.11/dist-packages (from sentence-transformers>=0.4.1->bertopic) (0.29.3)\n",
            "Requirement already satisfied: charset-normalizer<4,>=2 in /usr/local/lib/python3.11/dist-packages (from requests->datashader) (3.4.1)\n",
            "Requirement already satisfied: idna<4,>=2.5 in /usr/local/lib/python3.11/dist-packages (from requests->datashader) (3.10)\n",
            "Requirement already satisfied: urllib3<3,>=1.21.1 in /usr/local/lib/python3.11/dist-packages (from requests->datashader) (2.3.0)\n",
            "Requirement already satisfied: certifi>=2017.4.17 in /usr/local/lib/python3.11/dist-packages (from requests->datashader) (2025.1.31)\n",
            "Requirement already satisfied: filelock in /usr/local/lib/python3.11/dist-packages (from huggingface-hub>=0.20.0->sentence-transformers>=0.4.1->bertopic) (3.18.0)\n",
            "Requirement already satisfied: fsspec>=2023.5.0 in /usr/local/lib/python3.11/dist-packages (from huggingface-hub>=0.20.0->sentence-transformers>=0.4.1->bertopic) (2025.3.0)\n",
            "Requirement already satisfied: MarkupSafe>=2.0 in /usr/local/lib/python3.11/dist-packages (from Jinja2>=2.9->bokeh>=3.1->holoviews) (3.0.2)\n",
            "Requirement already satisfied: networkx in /usr/local/lib/python3.11/dist-packages (from torch>=1.11.0->sentence-transformers>=0.4.1->bertopic) (3.4.2)\n",
            "Requirement already satisfied: nvidia-cuda-nvrtc-cu12==12.4.127 in /usr/local/lib/python3.11/dist-packages (from torch>=1.11.0->sentence-transformers>=0.4.1->bertopic) (12.4.127)\n",
            "Requirement already satisfied: nvidia-cuda-runtime-cu12==12.4.127 in /usr/local/lib/python3.11/dist-packages (from torch>=1.11.0->sentence-transformers>=0.4.1->bertopic) (12.4.127)\n",
            "Requirement already satisfied: nvidia-cuda-cupti-cu12==12.4.127 in /usr/local/lib/python3.11/dist-packages (from torch>=1.11.0->sentence-transformers>=0.4.1->bertopic) (12.4.127)\n",
            "Requirement already satisfied: nvidia-cudnn-cu12==9.1.0.70 in /usr/local/lib/python3.11/dist-packages (from torch>=1.11.0->sentence-transformers>=0.4.1->bertopic) (9.1.0.70)\n",
            "Requirement already satisfied: nvidia-cublas-cu12==12.4.5.8 in /usr/local/lib/python3.11/dist-packages (from torch>=1.11.0->sentence-transformers>=0.4.1->bertopic) (12.4.5.8)\n",
            "Requirement already satisfied: nvidia-cufft-cu12==11.2.1.3 in /usr/local/lib/python3.11/dist-packages (from torch>=1.11.0->sentence-transformers>=0.4.1->bertopic) (11.2.1.3)\n",
            "Requirement already satisfied: nvidia-curand-cu12==10.3.5.147 in /usr/local/lib/python3.11/dist-packages (from torch>=1.11.0->sentence-transformers>=0.4.1->bertopic) (10.3.5.147)\n",
            "Requirement already satisfied: nvidia-cusolver-cu12==11.6.1.9 in /usr/local/lib/python3.11/dist-packages (from torch>=1.11.0->sentence-transformers>=0.4.1->bertopic) (11.6.1.9)\n",
            "Requirement already satisfied: nvidia-cusparse-cu12==12.3.1.170 in /usr/local/lib/python3.11/dist-packages (from torch>=1.11.0->sentence-transformers>=0.4.1->bertopic) (12.3.1.170)\n",
            "Requirement already satisfied: nvidia-cusparselt-cu12==0.6.2 in /usr/local/lib/python3.11/dist-packages (from torch>=1.11.0->sentence-transformers>=0.4.1->bertopic) (0.6.2)\n",
            "Requirement already satisfied: nvidia-nccl-cu12==2.21.5 in /usr/local/lib/python3.11/dist-packages (from torch>=1.11.0->sentence-transformers>=0.4.1->bertopic) (2.21.5)\n",
            "Requirement already satisfied: nvidia-nvtx-cu12==12.4.127 in /usr/local/lib/python3.11/dist-packages (from torch>=1.11.0->sentence-transformers>=0.4.1->bertopic) (12.4.127)\n",
            "Requirement already satisfied: nvidia-nvjitlink-cu12==12.4.127 in /usr/local/lib/python3.11/dist-packages (from torch>=1.11.0->sentence-transformers>=0.4.1->bertopic) (12.4.127)\n",
            "Requirement already satisfied: triton==3.2.0 in /usr/local/lib/python3.11/dist-packages (from torch>=1.11.0->sentence-transformers>=0.4.1->bertopic) (3.2.0)\n",
            "Requirement already satisfied: sympy==1.13.1 in /usr/local/lib/python3.11/dist-packages (from torch>=1.11.0->sentence-transformers>=0.4.1->bertopic) (1.13.1)\n",
            "Requirement already satisfied: mpmath<1.4,>=1.1.0 in /usr/local/lib/python3.11/dist-packages (from sympy==1.13.1->torch>=1.11.0->sentence-transformers>=0.4.1->bertopic) (1.3.0)\n",
            "Requirement already satisfied: regex!=2019.12.17 in /usr/local/lib/python3.11/dist-packages (from transformers<5.0.0,>=4.41.0->sentence-transformers>=0.4.1->bertopic) (2024.11.6)\n",
            "Requirement already satisfied: tokenizers<0.22,>=0.21 in /usr/local/lib/python3.11/dist-packages (from transformers<5.0.0,>=4.41.0->sentence-transformers>=0.4.1->bertopic) (0.21.1)\n",
            "Requirement already satisfied: safetensors>=0.4.1 in /usr/local/lib/python3.11/dist-packages (from transformers<5.0.0,>=4.41.0->sentence-transformers>=0.4.1->bertopic) (0.5.3)\n",
            "Requirement already satisfied: webencodings in /usr/local/lib/python3.11/dist-packages (from bleach->panel>=1.0->holoviews) (0.5.1)\n",
            "Requirement already satisfied: uc-micro-py in /usr/local/lib/python3.11/dist-packages (from linkify-it-py->panel>=1.0->holoviews) (1.0.3)\n",
            "Requirement already satisfied: mdurl~=0.1 in /usr/local/lib/python3.11/dist-packages (from markdown-it-py->panel>=1.0->holoviews) (0.1.2)\n",
            "        3          4           5\n",
            "0  hausnr      stadt  bundesland\n",
            "1       1  Flensburg         1.0\n",
            "2       1  Flensburg         1.0\n"
          ]
        }
      ]
    },
    {
      "cell_type": "code",
      "source": [
        "!pip show umap-learn\n",
        "import umap\n",
        "print(dir(umap))"
      ],
      "metadata": {
        "id": "rkNAs5RYlH9r",
        "outputId": "f14e1d1a-2bc3-4771-c766-e555b342188d",
        "colab": {
          "base_uri": "https://localhost:8080/"
        }
      },
      "execution_count": null,
      "outputs": [
        {
          "output_type": "stream",
          "name": "stdout",
          "text": [
            "Name: umap-learn\n",
            "Version: 0.5.7\n",
            "Summary: Uniform Manifold Approximation and Projection\n",
            "Home-page: http://github.com/lmcinnes/umap\n",
            "Author: \n",
            "Author-email: \n",
            "License: BSD\n",
            "Location: /usr/local/lib/python3.11/dist-packages\n",
            "Requires: numba, numpy, pynndescent, scikit-learn, scipy, tqdm\n",
            "Required-by: bertopic\n",
            "['__builtins__', '__cached__', '__doc__', '__file__', '__loader__', '__name__', '__package__', '__path__', '__spec__']\n"
          ]
        }
      ]
    },
    {
      "cell_type": "code",
      "source": [
        "try:\n",
        "    from umap.umap_ import UMAP\n",
        "    print(\"Successfully imported UMAP from umap.umap_\")\n",
        "except ImportError as e:\n",
        "    print(f\"ImportError: {e}\")\n",
        "    print(\"Could not import UMAP from umap.umap_\")"
      ],
      "metadata": {
        "id": "78jvsgMYlTGy",
        "outputId": "adb5b60e-7bea-4ed7-dedd-07fe029c6d64",
        "colab": {
          "base_uri": "https://localhost:8080/"
        }
      },
      "execution_count": null,
      "outputs": [
        {
          "output_type": "stream",
          "name": "stdout",
          "text": [
            "Successfully imported UMAP from umap.umap_\n"
          ]
        }
      ]
    },
    {
      "cell_type": "code",
      "source": [
        "print(rezensionen_data.iloc[0:5, 8]) # Zeigt die ersten 5 Rezensionen an (Spalte 8)"
      ],
      "metadata": {
        "id": "AgALvZO586lQ",
        "outputId": "3ae26c48-aefc-4704-b147-3b70cebfc53f",
        "colab": {
          "base_uri": "https://localhost:8080/"
        }
      },
      "execution_count": null,
      "outputs": [
        {
          "output_type": "stream",
          "name": "stdout",
          "text": [
            "0                                            rezension\n",
            "1    Von A-Z positiv. Teil 1\\nVom Reinigungspersona...\n",
            "2    Ich kann die vielen schlechten Rezensionen übe...\n",
            "3    Ich bin total begeistert von dem Personal  auf...\n",
            "4    Enttäuschende Erfahrung in der Notaufnahme\\n\\n...\n",
            "Name: 8, dtype: object\n"
          ]
        }
      ]
    },
    {
      "cell_type": "markdown",
      "source": [
        "run BERT"
      ],
      "metadata": {
        "id": "B7fUQFPmXGPn"
      }
    },
    {
      "cell_type": "code",
      "source": [
        "!pip show umap-learn"
      ],
      "metadata": {
        "id": "zKjBQguP2KhW",
        "outputId": "2fcbbcc3-4221-4609-a696-7f7a555e2f40",
        "colab": {
          "base_uri": "https://localhost:8080/"
        }
      },
      "execution_count": null,
      "outputs": [
        {
          "output_type": "stream",
          "name": "stdout",
          "text": [
            "Name: umap-learn\n",
            "Version: 0.5.7\n",
            "Summary: Uniform Manifold Approximation and Projection\n",
            "Home-page: http://github.com/lmcinnes/umap\n",
            "Author: \n",
            "Author-email: \n",
            "License: BSD\n",
            "Location: /usr/local/lib/python3.11/dist-packages\n",
            "Requires: numba, numpy, pynndescent, scikit-learn, scipy, tqdm\n",
            "Required-by: bertopic\n"
          ]
        }
      ]
    },
    {
      "cell_type": "code",
      "source": [
        "umap_model = UMAP(random_state=4242)\n",
        "\n",
        "topic_model = BERTopic(umap_model=umap_model, language=\"german\", nr_topics=\"auto\") # Sprache explizit auf Deutsch\n",
        "rezensionen_data['rezension'] = rezensionen_data['rezension'].astype(str)\n",
        "topics, probs = topic_model.fit_transform(rezensionen_data['rezension'])\n",
        "\n",
        "topic_model.get_topic_info() # topics; -1 = garbage topic\n",
        "\n",
        "topic_model.get_document_info(rezensionen_data['rezension']) # Klassifizierung der einzelnen Rezensionen"
      ],
      "metadata": {
        "colab": {
          "base_uri": "https://localhost:8080/",
          "height": 597
        },
        "id": "jCnkEcQ5XMA5",
        "outputId": "cbf3a245-ede8-47cf-ffb9-204d98787218"
      },
      "execution_count": null,
      "outputs": [
        {
          "output_type": "execute_result",
          "data": {
            "text/plain": [
              "                                                Document  Topic  \\\n",
              "0                                              rezension      0   \n",
              "1      Von A-Z positiv. Teil 1\\nVom Reinigungspersona...      0   \n",
              "2      Ich kann die vielen schlechten Rezensionen übe...      0   \n",
              "3      Ich bin total begeistert von dem Personal  auf...      0   \n",
              "4      Enttäuschende Erfahrung in der Notaufnahme\\n\\n...      0   \n",
              "...                                                  ...    ...   \n",
              "11778  Meine 81 Jährige Mutter wurde auf Station 24 b...      0   \n",
              "11779  Absolut zufrieden mit dem Service und vorallem...      0   \n",
              "11780  Ich kann jetzt nur für Kreißsaal sowie Station...      0   \n",
              "11781  Durch das schnelle und kompetente Handeln alle...      0   \n",
              "11782  Vielen lieben Dank an das gesamte Team der Sta...      0   \n",
              "\n",
              "                    Name                                     Representation  \\\n",
              "0      0_und_ich_die_der  [und, ich, die, der, das, in, sehr, nicht, war...   \n",
              "1      0_und_ich_die_der  [und, ich, die, der, das, in, sehr, nicht, war...   \n",
              "2      0_und_ich_die_der  [und, ich, die, der, das, in, sehr, nicht, war...   \n",
              "3      0_und_ich_die_der  [und, ich, die, der, das, in, sehr, nicht, war...   \n",
              "4      0_und_ich_die_der  [und, ich, die, der, das, in, sehr, nicht, war...   \n",
              "...                  ...                                                ...   \n",
              "11778  0_und_ich_die_der  [und, ich, die, der, das, in, sehr, nicht, war...   \n",
              "11779  0_und_ich_die_der  [und, ich, die, der, das, in, sehr, nicht, war...   \n",
              "11780  0_und_ich_die_der  [und, ich, die, der, das, in, sehr, nicht, war...   \n",
              "11781  0_und_ich_die_der  [und, ich, die, der, das, in, sehr, nicht, war...   \n",
              "11782  0_und_ich_die_der  [und, ich, die, der, das, in, sehr, nicht, war...   \n",
              "\n",
              "                                     Representative_Docs  \\\n",
              "0      [Mein Arzt hatte mir eine Überweisung und Einw...   \n",
              "1      [Mein Arzt hatte mir eine Überweisung und Einw...   \n",
              "2      [Mein Arzt hatte mir eine Überweisung und Einw...   \n",
              "3      [Mein Arzt hatte mir eine Überweisung und Einw...   \n",
              "4      [Mein Arzt hatte mir eine Überweisung und Einw...   \n",
              "...                                                  ...   \n",
              "11778  [Mein Arzt hatte mir eine Überweisung und Einw...   \n",
              "11779  [Mein Arzt hatte mir eine Überweisung und Einw...   \n",
              "11780  [Mein Arzt hatte mir eine Überweisung und Einw...   \n",
              "11781  [Mein Arzt hatte mir eine Überweisung und Einw...   \n",
              "11782  [Mein Arzt hatte mir eine Überweisung und Einw...   \n",
              "\n",
              "                                             Top_n_words  Probability  \\\n",
              "0      und - ich - die - der - das - in - sehr - nich...          1.0   \n",
              "1      und - ich - die - der - das - in - sehr - nich...          1.0   \n",
              "2      und - ich - die - der - das - in - sehr - nich...          1.0   \n",
              "3      und - ich - die - der - das - in - sehr - nich...          1.0   \n",
              "4      und - ich - die - der - das - in - sehr - nich...          1.0   \n",
              "...                                                  ...          ...   \n",
              "11778  und - ich - die - der - das - in - sehr - nich...          1.0   \n",
              "11779  und - ich - die - der - das - in - sehr - nich...          1.0   \n",
              "11780  und - ich - die - der - das - in - sehr - nich...          1.0   \n",
              "11781  und - ich - die - der - das - in - sehr - nich...          1.0   \n",
              "11782  und - ich - die - der - das - in - sehr - nich...          1.0   \n",
              "\n",
              "       Representative_document  \n",
              "0                        False  \n",
              "1                        False  \n",
              "2                        False  \n",
              "3                        False  \n",
              "4                        False  \n",
              "...                        ...  \n",
              "11778                    False  \n",
              "11779                    False  \n",
              "11780                    False  \n",
              "11781                    False  \n",
              "11782                    False  \n",
              "\n",
              "[11783 rows x 8 columns]"
            ],
            "text/html": [
              "\n",
              "  <div id=\"df-32f852c6-f620-4505-ab13-9d7b61ad09b9\" class=\"colab-df-container\">\n",
              "    <div>\n",
              "<style scoped>\n",
              "    .dataframe tbody tr th:only-of-type {\n",
              "        vertical-align: middle;\n",
              "    }\n",
              "\n",
              "    .dataframe tbody tr th {\n",
              "        vertical-align: top;\n",
              "    }\n",
              "\n",
              "    .dataframe thead th {\n",
              "        text-align: right;\n",
              "    }\n",
              "</style>\n",
              "<table border=\"1\" class=\"dataframe\">\n",
              "  <thead>\n",
              "    <tr style=\"text-align: right;\">\n",
              "      <th></th>\n",
              "      <th>Document</th>\n",
              "      <th>Topic</th>\n",
              "      <th>Name</th>\n",
              "      <th>Representation</th>\n",
              "      <th>Representative_Docs</th>\n",
              "      <th>Top_n_words</th>\n",
              "      <th>Probability</th>\n",
              "      <th>Representative_document</th>\n",
              "    </tr>\n",
              "  </thead>\n",
              "  <tbody>\n",
              "    <tr>\n",
              "      <th>0</th>\n",
              "      <td>rezension</td>\n",
              "      <td>0</td>\n",
              "      <td>0_und_ich_die_der</td>\n",
              "      <td>[und, ich, die, der, das, in, sehr, nicht, war...</td>\n",
              "      <td>[Mein Arzt hatte mir eine Überweisung und Einw...</td>\n",
              "      <td>und - ich - die - der - das - in - sehr - nich...</td>\n",
              "      <td>1.0</td>\n",
              "      <td>False</td>\n",
              "    </tr>\n",
              "    <tr>\n",
              "      <th>1</th>\n",
              "      <td>Von A-Z positiv. Teil 1\\nVom Reinigungspersona...</td>\n",
              "      <td>0</td>\n",
              "      <td>0_und_ich_die_der</td>\n",
              "      <td>[und, ich, die, der, das, in, sehr, nicht, war...</td>\n",
              "      <td>[Mein Arzt hatte mir eine Überweisung und Einw...</td>\n",
              "      <td>und - ich - die - der - das - in - sehr - nich...</td>\n",
              "      <td>1.0</td>\n",
              "      <td>False</td>\n",
              "    </tr>\n",
              "    <tr>\n",
              "      <th>2</th>\n",
              "      <td>Ich kann die vielen schlechten Rezensionen übe...</td>\n",
              "      <td>0</td>\n",
              "      <td>0_und_ich_die_der</td>\n",
              "      <td>[und, ich, die, der, das, in, sehr, nicht, war...</td>\n",
              "      <td>[Mein Arzt hatte mir eine Überweisung und Einw...</td>\n",
              "      <td>und - ich - die - der - das - in - sehr - nich...</td>\n",
              "      <td>1.0</td>\n",
              "      <td>False</td>\n",
              "    </tr>\n",
              "    <tr>\n",
              "      <th>3</th>\n",
              "      <td>Ich bin total begeistert von dem Personal  auf...</td>\n",
              "      <td>0</td>\n",
              "      <td>0_und_ich_die_der</td>\n",
              "      <td>[und, ich, die, der, das, in, sehr, nicht, war...</td>\n",
              "      <td>[Mein Arzt hatte mir eine Überweisung und Einw...</td>\n",
              "      <td>und - ich - die - der - das - in - sehr - nich...</td>\n",
              "      <td>1.0</td>\n",
              "      <td>False</td>\n",
              "    </tr>\n",
              "    <tr>\n",
              "      <th>4</th>\n",
              "      <td>Enttäuschende Erfahrung in der Notaufnahme\\n\\n...</td>\n",
              "      <td>0</td>\n",
              "      <td>0_und_ich_die_der</td>\n",
              "      <td>[und, ich, die, der, das, in, sehr, nicht, war...</td>\n",
              "      <td>[Mein Arzt hatte mir eine Überweisung und Einw...</td>\n",
              "      <td>und - ich - die - der - das - in - sehr - nich...</td>\n",
              "      <td>1.0</td>\n",
              "      <td>False</td>\n",
              "    </tr>\n",
              "    <tr>\n",
              "      <th>...</th>\n",
              "      <td>...</td>\n",
              "      <td>...</td>\n",
              "      <td>...</td>\n",
              "      <td>...</td>\n",
              "      <td>...</td>\n",
              "      <td>...</td>\n",
              "      <td>...</td>\n",
              "      <td>...</td>\n",
              "    </tr>\n",
              "    <tr>\n",
              "      <th>11778</th>\n",
              "      <td>Meine 81 Jährige Mutter wurde auf Station 24 b...</td>\n",
              "      <td>0</td>\n",
              "      <td>0_und_ich_die_der</td>\n",
              "      <td>[und, ich, die, der, das, in, sehr, nicht, war...</td>\n",
              "      <td>[Mein Arzt hatte mir eine Überweisung und Einw...</td>\n",
              "      <td>und - ich - die - der - das - in - sehr - nich...</td>\n",
              "      <td>1.0</td>\n",
              "      <td>False</td>\n",
              "    </tr>\n",
              "    <tr>\n",
              "      <th>11779</th>\n",
              "      <td>Absolut zufrieden mit dem Service und vorallem...</td>\n",
              "      <td>0</td>\n",
              "      <td>0_und_ich_die_der</td>\n",
              "      <td>[und, ich, die, der, das, in, sehr, nicht, war...</td>\n",
              "      <td>[Mein Arzt hatte mir eine Überweisung und Einw...</td>\n",
              "      <td>und - ich - die - der - das - in - sehr - nich...</td>\n",
              "      <td>1.0</td>\n",
              "      <td>False</td>\n",
              "    </tr>\n",
              "    <tr>\n",
              "      <th>11780</th>\n",
              "      <td>Ich kann jetzt nur für Kreißsaal sowie Station...</td>\n",
              "      <td>0</td>\n",
              "      <td>0_und_ich_die_der</td>\n",
              "      <td>[und, ich, die, der, das, in, sehr, nicht, war...</td>\n",
              "      <td>[Mein Arzt hatte mir eine Überweisung und Einw...</td>\n",
              "      <td>und - ich - die - der - das - in - sehr - nich...</td>\n",
              "      <td>1.0</td>\n",
              "      <td>False</td>\n",
              "    </tr>\n",
              "    <tr>\n",
              "      <th>11781</th>\n",
              "      <td>Durch das schnelle und kompetente Handeln alle...</td>\n",
              "      <td>0</td>\n",
              "      <td>0_und_ich_die_der</td>\n",
              "      <td>[und, ich, die, der, das, in, sehr, nicht, war...</td>\n",
              "      <td>[Mein Arzt hatte mir eine Überweisung und Einw...</td>\n",
              "      <td>und - ich - die - der - das - in - sehr - nich...</td>\n",
              "      <td>1.0</td>\n",
              "      <td>False</td>\n",
              "    </tr>\n",
              "    <tr>\n",
              "      <th>11782</th>\n",
              "      <td>Vielen lieben Dank an das gesamte Team der Sta...</td>\n",
              "      <td>0</td>\n",
              "      <td>0_und_ich_die_der</td>\n",
              "      <td>[und, ich, die, der, das, in, sehr, nicht, war...</td>\n",
              "      <td>[Mein Arzt hatte mir eine Überweisung und Einw...</td>\n",
              "      <td>und - ich - die - der - das - in - sehr - nich...</td>\n",
              "      <td>1.0</td>\n",
              "      <td>False</td>\n",
              "    </tr>\n",
              "  </tbody>\n",
              "</table>\n",
              "<p>11783 rows × 8 columns</p>\n",
              "</div>\n",
              "    <div class=\"colab-df-buttons\">\n",
              "\n",
              "  <div class=\"colab-df-container\">\n",
              "    <button class=\"colab-df-convert\" onclick=\"convertToInteractive('df-32f852c6-f620-4505-ab13-9d7b61ad09b9')\"\n",
              "            title=\"Convert this dataframe to an interactive table.\"\n",
              "            style=\"display:none;\">\n",
              "\n",
              "  <svg xmlns=\"http://www.w3.org/2000/svg\" height=\"24px\" viewBox=\"0 -960 960 960\">\n",
              "    <path d=\"M120-120v-720h720v720H120Zm60-500h600v-160H180v160Zm220 220h160v-160H400v160Zm0 220h160v-160H400v160ZM180-400h160v-160H180v160Zm440 0h160v-160H620v160ZM180-180h160v-160H180v160Zm440 0h160v-160H620v160Z\"/>\n",
              "  </svg>\n",
              "    </button>\n",
              "\n",
              "  <style>\n",
              "    .colab-df-container {\n",
              "      display:flex;\n",
              "      gap: 12px;\n",
              "    }\n",
              "\n",
              "    .colab-df-convert {\n",
              "      background-color: #E8F0FE;\n",
              "      border: none;\n",
              "      border-radius: 50%;\n",
              "      cursor: pointer;\n",
              "      display: none;\n",
              "      fill: #1967D2;\n",
              "      height: 32px;\n",
              "      padding: 0 0 0 0;\n",
              "      width: 32px;\n",
              "    }\n",
              "\n",
              "    .colab-df-convert:hover {\n",
              "      background-color: #E2EBFA;\n",
              "      box-shadow: 0px 1px 2px rgba(60, 64, 67, 0.3), 0px 1px 3px 1px rgba(60, 64, 67, 0.15);\n",
              "      fill: #174EA6;\n",
              "    }\n",
              "\n",
              "    .colab-df-buttons div {\n",
              "      margin-bottom: 4px;\n",
              "    }\n",
              "\n",
              "    [theme=dark] .colab-df-convert {\n",
              "      background-color: #3B4455;\n",
              "      fill: #D2E3FC;\n",
              "    }\n",
              "\n",
              "    [theme=dark] .colab-df-convert:hover {\n",
              "      background-color: #434B5C;\n",
              "      box-shadow: 0px 1px 3px 1px rgba(0, 0, 0, 0.15);\n",
              "      filter: drop-shadow(0px 1px 2px rgba(0, 0, 0, 0.3));\n",
              "      fill: #FFFFFF;\n",
              "    }\n",
              "  </style>\n",
              "\n",
              "    <script>\n",
              "      const buttonEl =\n",
              "        document.querySelector('#df-32f852c6-f620-4505-ab13-9d7b61ad09b9 button.colab-df-convert');\n",
              "      buttonEl.style.display =\n",
              "        google.colab.kernel.accessAllowed ? 'block' : 'none';\n",
              "\n",
              "      async function convertToInteractive(key) {\n",
              "        const element = document.querySelector('#df-32f852c6-f620-4505-ab13-9d7b61ad09b9');\n",
              "        const dataTable =\n",
              "          await google.colab.kernel.invokeFunction('convertToInteractive',\n",
              "                                                    [key], {});\n",
              "        if (!dataTable) return;\n",
              "\n",
              "        const docLinkHtml = 'Like what you see? Visit the ' +\n",
              "          '<a target=\"_blank\" href=https://colab.research.google.com/notebooks/data_table.ipynb>data table notebook</a>'\n",
              "          + ' to learn more about interactive tables.';\n",
              "        element.innerHTML = '';\n",
              "        dataTable['output_type'] = 'display_data';\n",
              "        await google.colab.output.renderOutput(dataTable, element);\n",
              "        const docLink = document.createElement('div');\n",
              "        docLink.innerHTML = docLinkHtml;\n",
              "        element.appendChild(docLink);\n",
              "      }\n",
              "    </script>\n",
              "  </div>\n",
              "\n",
              "\n",
              "<div id=\"df-15587506-5933-4569-99cb-fa04f4cf066c\">\n",
              "  <button class=\"colab-df-quickchart\" onclick=\"quickchart('df-15587506-5933-4569-99cb-fa04f4cf066c')\"\n",
              "            title=\"Suggest charts\"\n",
              "            style=\"display:none;\">\n",
              "\n",
              "<svg xmlns=\"http://www.w3.org/2000/svg\" height=\"24px\"viewBox=\"0 0 24 24\"\n",
              "     width=\"24px\">\n",
              "    <g>\n",
              "        <path d=\"M19 3H5c-1.1 0-2 .9-2 2v14c0 1.1.9 2 2 2h14c1.1 0 2-.9 2-2V5c0-1.1-.9-2-2-2zM9 17H7v-7h2v7zm4 0h-2V7h2v10zm4 0h-2v-4h2v4z\"/>\n",
              "    </g>\n",
              "</svg>\n",
              "  </button>\n",
              "\n",
              "<style>\n",
              "  .colab-df-quickchart {\n",
              "      --bg-color: #E8F0FE;\n",
              "      --fill-color: #1967D2;\n",
              "      --hover-bg-color: #E2EBFA;\n",
              "      --hover-fill-color: #174EA6;\n",
              "      --disabled-fill-color: #AAA;\n",
              "      --disabled-bg-color: #DDD;\n",
              "  }\n",
              "\n",
              "  [theme=dark] .colab-df-quickchart {\n",
              "      --bg-color: #3B4455;\n",
              "      --fill-color: #D2E3FC;\n",
              "      --hover-bg-color: #434B5C;\n",
              "      --hover-fill-color: #FFFFFF;\n",
              "      --disabled-bg-color: #3B4455;\n",
              "      --disabled-fill-color: #666;\n",
              "  }\n",
              "\n",
              "  .colab-df-quickchart {\n",
              "    background-color: var(--bg-color);\n",
              "    border: none;\n",
              "    border-radius: 50%;\n",
              "    cursor: pointer;\n",
              "    display: none;\n",
              "    fill: var(--fill-color);\n",
              "    height: 32px;\n",
              "    padding: 0;\n",
              "    width: 32px;\n",
              "  }\n",
              "\n",
              "  .colab-df-quickchart:hover {\n",
              "    background-color: var(--hover-bg-color);\n",
              "    box-shadow: 0 1px 2px rgba(60, 64, 67, 0.3), 0 1px 3px 1px rgba(60, 64, 67, 0.15);\n",
              "    fill: var(--button-hover-fill-color);\n",
              "  }\n",
              "\n",
              "  .colab-df-quickchart-complete:disabled,\n",
              "  .colab-df-quickchart-complete:disabled:hover {\n",
              "    background-color: var(--disabled-bg-color);\n",
              "    fill: var(--disabled-fill-color);\n",
              "    box-shadow: none;\n",
              "  }\n",
              "\n",
              "  .colab-df-spinner {\n",
              "    border: 2px solid var(--fill-color);\n",
              "    border-color: transparent;\n",
              "    border-bottom-color: var(--fill-color);\n",
              "    animation:\n",
              "      spin 1s steps(1) infinite;\n",
              "  }\n",
              "\n",
              "  @keyframes spin {\n",
              "    0% {\n",
              "      border-color: transparent;\n",
              "      border-bottom-color: var(--fill-color);\n",
              "      border-left-color: var(--fill-color);\n",
              "    }\n",
              "    20% {\n",
              "      border-color: transparent;\n",
              "      border-left-color: var(--fill-color);\n",
              "      border-top-color: var(--fill-color);\n",
              "    }\n",
              "    30% {\n",
              "      border-color: transparent;\n",
              "      border-left-color: var(--fill-color);\n",
              "      border-top-color: var(--fill-color);\n",
              "      border-right-color: var(--fill-color);\n",
              "    }\n",
              "    40% {\n",
              "      border-color: transparent;\n",
              "      border-right-color: var(--fill-color);\n",
              "      border-top-color: var(--fill-color);\n",
              "    }\n",
              "    60% {\n",
              "      border-color: transparent;\n",
              "      border-right-color: var(--fill-color);\n",
              "    }\n",
              "    80% {\n",
              "      border-color: transparent;\n",
              "      border-right-color: var(--fill-color);\n",
              "      border-bottom-color: var(--fill-color);\n",
              "    }\n",
              "    90% {\n",
              "      border-color: transparent;\n",
              "      border-bottom-color: var(--fill-color);\n",
              "    }\n",
              "  }\n",
              "</style>\n",
              "\n",
              "  <script>\n",
              "    async function quickchart(key) {\n",
              "      const quickchartButtonEl =\n",
              "        document.querySelector('#' + key + ' button');\n",
              "      quickchartButtonEl.disabled = true;  // To prevent multiple clicks.\n",
              "      quickchartButtonEl.classList.add('colab-df-spinner');\n",
              "      try {\n",
              "        const charts = await google.colab.kernel.invokeFunction(\n",
              "            'suggestCharts', [key], {});\n",
              "      } catch (error) {\n",
              "        console.error('Error during call to suggestCharts:', error);\n",
              "      }\n",
              "      quickchartButtonEl.classList.remove('colab-df-spinner');\n",
              "      quickchartButtonEl.classList.add('colab-df-quickchart-complete');\n",
              "    }\n",
              "    (() => {\n",
              "      let quickchartButtonEl =\n",
              "        document.querySelector('#df-15587506-5933-4569-99cb-fa04f4cf066c button');\n",
              "      quickchartButtonEl.style.display =\n",
              "        google.colab.kernel.accessAllowed ? 'block' : 'none';\n",
              "    })();\n",
              "  </script>\n",
              "</div>\n",
              "\n",
              "    </div>\n",
              "  </div>\n"
            ],
            "application/vnd.google.colaboratory.intrinsic+json": {
              "type": "dataframe",
              "summary": "{\n  \"name\": \"topic_model\",\n  \"rows\": 11783,\n  \"fields\": [\n    {\n      \"column\": \"Document\",\n      \"properties\": {\n        \"dtype\": \"string\",\n        \"num_unique_values\": 11634,\n        \"samples\": [\n          \"Ich bin heute mit einer klaren \\u00e4rztlichen \\u00dcberweisung in die Notaufnahme des Klinikums S\\u00fcd gekommen, da eine sofortige neurologische Untersuchung erforderlich war. Doch anstatt untersucht zu werden, wurde ich einfach weggeschickt \\u2013 ohne Entlassungspapiere!\\n\\nAls ich nachfragte, bekam ich nur die Antwort, dass das Krankenhaus voll sei und sie mich nicht ambulant untersuchen k\\u00f6nnten, sondern ich station\\u00e4r aufgenommen werden m\\u00fcsste \\u2013 es aber keinen Platz f\\u00fcr eine station\\u00e4re Aufnahme gebe. Das bedeutet also: Wer dringend Hilfe braucht, wird hier einfach abgewiesen!\\n\\nAls w\\u00e4re das nicht genug, wurde ich auch noch frech gefragt, warum ich \\u00fcberhaupt hierhergekommen bin. Eine unglaubliche Respektlosigkeit, vor allem, weil ich \\u00fcber 40 Jahre selbst im st\\u00e4dtischen Krankenhaus gearbeitet habe und so eine schlechte Behandlung noch nie erlebt habe.\\n\\nSo geht man nicht mit Patienten um! Ich erwarte eine Stellungnahme und Konsequenzen, damit so etwas in Zukunft nicht mehr passiert.\",\n          \"Tolles und freundliches Personal. Ich habe mich bei meiner ersten Operation mit Narkose hier sehr gut aufgehoben gef\\u00fchlt!\\nIch pers\\u00f6nlich fand auch super, dass ich den klassischen Krankenhausgeruch nicht wahrgenommen habe, da ich mich dadurch in Krankenh\\u00e4user normalerweise sehr unwohl f\\u00fchle.\\nDie gyn\\u00f6kologische Praxis im Geb\\u00e4ude kann ich zur Planung einer ambulanten OP sehr empfehlen und ist sehr modern eingerichtet.\",\n          \"Unsere Mutter war k\\u00fcrzlich auf der Station EC und wir m\\u00f6chten uns ganz herzlich beim gesamten Team bedanken. Man merkt, dass auf der Station viel los ist, aber die Schwestern haben sich trotzdem immer Zeit genommen und sich wirklich gut um unsere Mutter gek\\u00fcmmert. Sie hatten immer ein offenes Ohr und haben alles geduldig erkl\\u00e4rt, was f\\u00fcr uns wirklich beruhigend war.\\n\\nAuch die \\u00c4rzte haben sich Zeit genommen, wenn es etwas zu besprechen gab. Klar muss man manchmal ein bisschen warten, aber das ist ja normal.\\n\\nDie Station war immer sauber, und man hat gesehen, dass regelm\\u00e4\\u00dfig geputzt wurde \\u2013 das hat uns ein gutes Gef\\u00fchl gegeben. Au\\u00dferdem war es sch\\u00f6n, dass wir die Station telefonisch immer gut erreichen konnten, um uns nach unserer Mutter zu erkundigen.\\n\\nGerade weil wir nicht jeden Tag vor Ort sein konnten, war es toll zu wissen, dass sie in so guten H\\u00e4nden ist. Vielen Dank an das gesamte Team f\\u00fcr die tolle Betreuung.\"\n        ],\n        \"semantic_type\": \"\",\n        \"description\": \"\"\n      }\n    },\n    {\n      \"column\": \"Topic\",\n      \"properties\": {\n        \"dtype\": \"number\",\n        \"std\": 0,\n        \"min\": 0,\n        \"max\": 3,\n        \"num_unique_values\": 4,\n        \"samples\": [\n          3,\n          2,\n          0\n        ],\n        \"semantic_type\": \"\",\n        \"description\": \"\"\n      }\n    },\n    {\n      \"column\": \"Name\",\n      \"properties\": {\n        \"dtype\": \"category\",\n        \"num_unique_values\": 4,\n        \"samples\": [\n          \"3_nan___\",\n          \"2_nan___\",\n          \"0_und_ich_die_der\"\n        ],\n        \"semantic_type\": \"\",\n        \"description\": \"\"\n      }\n    },\n    {\n      \"column\": \"Representation\",\n      \"properties\": {\n        \"dtype\": \"object\",\n        \"semantic_type\": \"\",\n        \"description\": \"\"\n      }\n    },\n    {\n      \"column\": \"Representative_Docs\",\n      \"properties\": {\n        \"dtype\": \"object\",\n        \"semantic_type\": \"\",\n        \"description\": \"\"\n      }\n    },\n    {\n      \"column\": \"Top_n_words\",\n      \"properties\": {\n        \"dtype\": \"category\",\n        \"num_unique_values\": 2,\n        \"samples\": [\n          \"nan -  -  -  -  -  -  -  -  - \",\n          \"und - ich - die - der - das - in - sehr - nicht - war - ist\"\n        ],\n        \"semantic_type\": \"\",\n        \"description\": \"\"\n      }\n    },\n    {\n      \"column\": \"Probability\",\n      \"properties\": {\n        \"dtype\": \"number\",\n        \"std\": 0.06605804544833906,\n        \"min\": 0.014311743010519897,\n        \"max\": 1.0,\n        \"num_unique_values\": 424,\n        \"samples\": [\n          0.4978393450834859,\n          0.47216560019387305\n        ],\n        \"semantic_type\": \"\",\n        \"description\": \"\"\n      }\n    },\n    {\n      \"column\": \"Representative_document\",\n      \"properties\": {\n        \"dtype\": \"boolean\",\n        \"num_unique_values\": 2,\n        \"samples\": [\n          true,\n          false\n        ],\n        \"semantic_type\": \"\",\n        \"description\": \"\"\n      }\n    }\n  ]\n}"
            }
          },
          "metadata": {},
          "execution_count": 4
        }
      ]
    },
    {
      "cell_type": "markdown",
      "source": [
        "Textsample"
      ],
      "metadata": {
        "id": "AnMwbZlxDRJj"
      }
    },
    {
      "cell_type": "code",
      "source": [
        "sample_size = 0.1  # z.B. 10% der Daten für das Sample\n",
        "rezensionen_sample = rezensionen_data.sample(frac=sample_size, random_state=42) # random_state für Reproduzierbarkeit\n",
        "\n",
        "# Verwende jetzt rezensionen_sample statt rezensionen_data für BERTopic:\n",
        "topics_sample, probs_sample = topic_model.fit_transform(rezensionen_sample['rezension'])\n",
        "\n",
        "topic_model.get_document_info(rezensionen_sample['rezension']) # Document Info für das Sample\n",
        "topic_model.get_topic_info() # Topic Info für das Sample"
      ],
      "metadata": {
        "id": "xq7nihTdDTgV"
      },
      "execution_count": null,
      "outputs": []
    },
    {
      "cell_type": "markdown",
      "source": [
        "visualize BERT"
      ],
      "metadata": {
        "id": "G0MaSalRY0x-"
      }
    },
    {
      "cell_type": "code",
      "source": [
        "# topic distance\n",
        "topic_model.visualize_topics() # topics are closer together if they exhibit similar word distributions or co-occurring patterns, even if they do not share identical words\n"
      ],
      "metadata": {
        "colab": {
          "base_uri": "https://localhost:8080/",
          "height": 534
        },
        "id": "kCK6CHTiY5C7",
        "outputId": "0645103e-7d7d-43eb-9dd2-1a2848eeace8"
      },
      "execution_count": null,
      "outputs": [
        {
          "output_type": "error",
          "ename": "ModuleNotFoundError",
          "evalue": "UMAP is required to reduce the embeddings.. Please install it using `pip install umap-learn`.",
          "traceback": [
            "\u001b[0;31m---------------------------------------------------------------------------\u001b[0m",
            "\u001b[0;31mModuleNotFoundError\u001b[0m                       Traceback (most recent call last)",
            "\u001b[0;32m<ipython-input-9-4622056aa11f>\u001b[0m in \u001b[0;36m<cell line: 0>\u001b[0;34m()\u001b[0m\n\u001b[1;32m      1\u001b[0m \u001b[0;31m# topic distance\u001b[0m\u001b[0;34m\u001b[0m\u001b[0;34m\u001b[0m\u001b[0m\n\u001b[0;32m----> 2\u001b[0;31m \u001b[0mtopic_model\u001b[0m\u001b[0;34m.\u001b[0m\u001b[0mvisualize_topics\u001b[0m\u001b[0;34m(\u001b[0m\u001b[0;34m)\u001b[0m \u001b[0;31m# topics are closer together if they exhibit similar word distributions or co-occurring patterns, even if they do not share identical words\u001b[0m\u001b[0;34m\u001b[0m\u001b[0;34m\u001b[0m\u001b[0m\n\u001b[0m",
            "\u001b[0;32m/usr/local/lib/python3.11/dist-packages/bertopic/_bertopic.py\u001b[0m in \u001b[0;36mvisualize_topics\u001b[0;34m(self, topics, top_n_topics, use_ctfidf, custom_labels, title, width, height)\u001b[0m\n\u001b[1;32m   2440\u001b[0m         \"\"\"\n\u001b[1;32m   2441\u001b[0m         \u001b[0mcheck_is_fitted\u001b[0m\u001b[0;34m(\u001b[0m\u001b[0mself\u001b[0m\u001b[0;34m)\u001b[0m\u001b[0;34m\u001b[0m\u001b[0;34m\u001b[0m\u001b[0m\n\u001b[0;32m-> 2442\u001b[0;31m         return plotting.visualize_topics(\n\u001b[0m\u001b[1;32m   2443\u001b[0m             \u001b[0mself\u001b[0m\u001b[0;34m,\u001b[0m\u001b[0;34m\u001b[0m\u001b[0;34m\u001b[0m\u001b[0m\n\u001b[1;32m   2444\u001b[0m             \u001b[0mtopics\u001b[0m\u001b[0;34m=\u001b[0m\u001b[0mtopics\u001b[0m\u001b[0;34m,\u001b[0m\u001b[0;34m\u001b[0m\u001b[0;34m\u001b[0m\u001b[0m\n",
            "\u001b[0;32m/usr/local/lib/python3.11/dist-packages/bertopic/plotting/_topics.py\u001b[0m in \u001b[0;36mvisualize_topics\u001b[0;34m(topic_model, topics, top_n_topics, use_ctfidf, custom_labels, title, width, height)\u001b[0m\n\u001b[1;32m    102\u001b[0m             \u001b[0membeddings\u001b[0m \u001b[0;34m=\u001b[0m \u001b[0mUMAP\u001b[0m\u001b[0;34m(\u001b[0m\u001b[0mn_neighbors\u001b[0m\u001b[0;34m=\u001b[0m\u001b[0;36m2\u001b[0m\u001b[0;34m,\u001b[0m \u001b[0mn_components\u001b[0m\u001b[0;34m=\u001b[0m\u001b[0;36m2\u001b[0m\u001b[0;34m,\u001b[0m \u001b[0mmetric\u001b[0m\u001b[0;34m=\u001b[0m\u001b[0;34m\"cosine\"\u001b[0m\u001b[0;34m,\u001b[0m \u001b[0mrandom_state\u001b[0m\u001b[0;34m=\u001b[0m\u001b[0;36m42\u001b[0m\u001b[0;34m)\u001b[0m\u001b[0;34m.\u001b[0m\u001b[0mfit_transform\u001b[0m\u001b[0;34m(\u001b[0m\u001b[0membeddings\u001b[0m\u001b[0;34m)\u001b[0m\u001b[0;34m\u001b[0m\u001b[0;34m\u001b[0m\u001b[0m\n\u001b[1;32m    103\u001b[0m     \u001b[0;32melse\u001b[0m\u001b[0;34m:\u001b[0m\u001b[0;34m\u001b[0m\u001b[0;34m\u001b[0m\u001b[0m\n\u001b[0;32m--> 104\u001b[0;31m         raise ModuleNotFoundError(\n\u001b[0m\u001b[1;32m    105\u001b[0m             \u001b[0;34m\"UMAP is required to reduce the embeddings.. Please install it using `pip install umap-learn`.\"\u001b[0m\u001b[0;34m\u001b[0m\u001b[0;34m\u001b[0m\u001b[0m\n\u001b[1;32m    106\u001b[0m         )\n",
            "\u001b[0;31mModuleNotFoundError\u001b[0m: UMAP is required to reduce the embeddings.. Please install it using `pip install umap-learn`.",
            "",
            "\u001b[0;31m---------------------------------------------------------------------------\u001b[0;32m\nNOTE: If your import is failing due to a missing package, you can\nmanually install dependencies using either !pip or !apt.\n\nTo view examples of installing some common dependencies, click the\n\"Open Examples\" button below.\n\u001b[0;31m---------------------------------------------------------------------------\u001b[0m\n"
          ],
          "errorDetails": {
            "actions": [
              {
                "action": "open_url",
                "actionText": "Open Examples",
                "url": "/notebooks/snippets/importing_libraries.ipynb"
              }
            ]
          }
        }
      ]
    },
    {
      "cell_type": "code",
      "source": [
        "# word scores\n",
        "topic_model.visualize_barchart()\n",
        "\n",
        "# Plot for topics 40 to 51\n",
        "topic_model.visualize_barchart(topics=list(range(40, 52)))"
      ],
      "metadata": {
        "id": "hOVc_1SAZRgP"
      },
      "execution_count": null,
      "outputs": []
    },
    {
      "cell_type": "code",
      "source": [
        "# Topic similarity\n",
        "topic_model.visualize_heatmap()"
      ],
      "metadata": {
        "id": "apbkMIaEZPcG"
      },
      "execution_count": null,
      "outputs": []
    },
    {
      "cell_type": "code",
      "source": [
        "# Topic hierarchy\n",
        "topic_model.visualize_hierarchy()"
      ],
      "metadata": {
        "id": "aeBSd946ZOJL"
      },
      "execution_count": null,
      "outputs": []
    },
    {
      "cell_type": "markdown",
      "source": [
        "deepdive into topics"
      ],
      "metadata": {
        "id": "0sDBJTlWZbPZ"
      }
    },
    {
      "cell_type": "code",
      "source": [
        "topic_model.get_topic(49) # Wörter anzeigen lassen\n",
        "\n",
        "topic_model.get_representative_docs(topic=82) # Repräsentative Artikel anzeigen lassen\n",
        "\n",
        "topic_model.set_topic_labels({49: \"Iraq attacks\", 82: \"India attacks\"}) # manuelles labeling\n",
        "topic_model.get_topic_info(49) # default label = XX_top_three_words\n",
        "topic_model.get_topic_info(82)"
      ],
      "metadata": {
        "id": "EuO6eIX-Zed6"
      },
      "execution_count": null,
      "outputs": []
    },
    {
      "cell_type": "markdown",
      "source": [
        "Topics je nach Covariate"
      ],
      "metadata": {
        "id": "DNYgvxU8eGjw"
      }
    },
    {
      "cell_type": "code",
      "source": [
        "sterne = rezensionen_data['bewertung']\n",
        "\n",
        "topics_x_sterne = topic_model.topics_per_class(rezensionen_data['description'], classes = sterne)\n",
        "\n",
        "topic_model.visualize_topics_x_sterne(topics_x_sterne, top_n_topics = 31)"
      ],
      "metadata": {
        "id": "Go_841WkeFiW"
      },
      "execution_count": null,
      "outputs": []
    },
    {
      "cell_type": "markdown",
      "source": [
        "Advanced ..."
      ],
      "metadata": {
        "id": "KmvSSPzFfd3f"
      }
    },
    {
      "cell_type": "markdown",
      "source": [
        "TESTUMGEBUNG"
      ],
      "metadata": {
        "id": "gcZ3pQUuNE85"
      }
    },
    {
      "cell_type": "code",
      "source": [
        "import pandas as pd\n",
        "from bertopic import BERTopic\n",
        "\n",
        "# Read the CSV file\n",
        "df = pd.read_csv(\"07_stichprobe_validierung.csv\")\n",
        "\n",
        "# Extract the 'rezension' column\n",
        "docs = df['rezension'].tolist()\n",
        "\n",
        "# Initialize BERTopic model\n",
        "topic_model = BERTopic(language=\"german\")\n",
        "\n",
        "# Run BERTopic model\n",
        "topics, probs = topic_model.fit_transform(docs)\n",
        "\n",
        "# Get topic information (optional)\n",
        "topic_info = topic_model.get_topic_info()\n",
        "\n",
        "# Print topic information (optional)\n",
        "print(topic_info)\n",
        "\n",
        "# Example: Get the most frequent topics\n",
        "print(\"\\nMost frequent topics:\")\n",
        "print(topic_info.head())"
      ],
      "metadata": {
        "id": "-YYRdq3QNF4H"
      },
      "execution_count": null,
      "outputs": []
    }
  ]
}