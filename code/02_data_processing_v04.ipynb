{
  "nbformat": 4,
  "nbformat_minor": 0,
  "metadata": {
    "colab": {
      "provenance": []
    },
    "kernelspec": {
      "name": "python3",
      "display_name": "Python 3"
    },
    "language_info": {
      "name": "python"
    }
  },
  "cells": [
    {
      "cell_type": "markdown",
      "source": [
        "Packages laden"
      ],
      "metadata": {
        "id": "4_dqpQXVgm65"
      }
    },
    {
      "cell_type": "code",
      "source": [
        "!pip install pandas\n",
        "import pandas as pd"
      ],
      "metadata": {
        "id": "hLdud861gp-d",
        "outputId": "fb1de758-b583-4553-d630-f32073112c7d",
        "colab": {
          "base_uri": "https://localhost:8080/"
        }
      },
      "execution_count": 1,
      "outputs": [
        {
          "output_type": "stream",
          "name": "stdout",
          "text": [
            "Requirement already satisfied: pandas in /usr/local/lib/python3.11/dist-packages (2.2.2)\n",
            "Requirement already satisfied: numpy>=1.23.2 in /usr/local/lib/python3.11/dist-packages (from pandas) (1.26.4)\n",
            "Requirement already satisfied: python-dateutil>=2.8.2 in /usr/local/lib/python3.11/dist-packages (from pandas) (2.8.2)\n",
            "Requirement already satisfied: pytz>=2020.1 in /usr/local/lib/python3.11/dist-packages (from pandas) (2025.1)\n",
            "Requirement already satisfied: tzdata>=2022.7 in /usr/local/lib/python3.11/dist-packages (from pandas) (2025.1)\n",
            "Requirement already satisfied: six>=1.5 in /usr/local/lib/python3.11/dist-packages (from python-dateutil>=2.8.2->pandas) (1.17.0)\n"
          ]
        }
      ]
    },
    {
      "cell_type": "markdown",
      "source": [
        "Merging all four data subsets"
      ],
      "metadata": {
        "id": "wiKDtXQ-LvBr"
      }
    },
    {
      "cell_type": "code",
      "execution_count": null,
      "metadata": {
        "id": "nRZpq-UbK7Mc",
        "outputId": "97ba941a-6318-4a32-b32e-038f0681c227",
        "colab": {
          "base_uri": "https://localhost:8080/"
        }
      },
      "outputs": [
        {
          "output_type": "stream",
          "name": "stdout",
          "text": [
            "Requirement already satisfied: pandas in /usr/local/lib/python3.11/dist-packages (2.2.2)\n",
            "Requirement already satisfied: numpy>=1.23.2 in /usr/local/lib/python3.11/dist-packages (from pandas) (1.26.4)\n",
            "Requirement already satisfied: python-dateutil>=2.8.2 in /usr/local/lib/python3.11/dist-packages (from pandas) (2.8.2)\n",
            "Requirement already satisfied: pytz>=2020.1 in /usr/local/lib/python3.11/dist-packages (from pandas) (2025.1)\n",
            "Requirement already satisfied: tzdata>=2022.7 in /usr/local/lib/python3.11/dist-packages (from pandas) (2025.1)\n",
            "Requirement already satisfied: six>=1.5 in /usr/local/lib/python3.11/dist-packages (from python-dateutil>=2.8.2->pandas) (1.17.0)\n"
          ]
        }
      ],
      "source": [
        "csv_data_raw = [r'/content/4_1_ergebnisse.csv', r'/content/4_2_ergebnisse.csv', r'/content/4_3_ergebnisse.csv', r'/content/4_4_ergebnisse.csv']\n",
        "\n",
        "df = pd.concat((pd.read_csv(f) for f in csv_data_raw), ignore_index=True)\n",
        "\n",
        "df.to_csv('csv_data_raw.csv', index=False)"
      ]
    },
    {
      "cell_type": "markdown",
      "source": [
        "Manche Orte wurden doppelt abgerufen. Entfernung von Dopplungen in den Rezensionen."
      ],
      "metadata": {
        "id": "Ezr9gDgVgTNn"
      }
    },
    {
      "cell_type": "code",
      "source": [
        "csv_pfad = '/content/05_csv_data_raw.csv' # nicht wundern, hatte datei zwischenzeitlich umbenannt\n",
        "\n",
        "def entferne_doppelte_rezensionen(csv_pfad, anzahl_rezensionen=5):\n",
        "    df = pd.read_csv(csv_pfad)\n",
        "\n",
        "    # Doppelte Rezensionen basierend auf place_id und rezension entfernen\n",
        "    df = df.drop_duplicates(subset=['place_id', 'rezension'], keep='first')\n",
        "\n",
        "    # Anzahl der Rezensionen pro Ort begrenzen\n",
        "    df = df.groupby('place_id').head(anzahl_rezensionen).reset_index(drop=True)\n",
        "\n",
        "    return df\n",
        "\n",
        "# Funktionsaufruf\n",
        "ergebnis_df = entferne_doppelte_rezensionen(csv_pfad)\n",
        "\n",
        "# Das bereinigte DataFrame anzeigen (optional)\n",
        "print(ergebnis_df)\n",
        "\n",
        "# Das bereinigte DataFrame in eine neue CSV-Datei speichern (optional)\n",
        "ergebnis_df.to_csv(\"06_data_raw_no_doubles.csv\", index=False)"
      ],
      "metadata": {
        "id": "BZVwj8xtghz9",
        "outputId": "e3f4c742-23aa-4bef-a64b-470438ce2a7b",
        "colab": {
          "base_uri": "https://localhost:8080/"
        }
      },
      "execution_count": 2,
      "outputs": [
        {
          "output_type": "stream",
          "name": "stdout",
          "text": [
            "                                                     ort  \\\n",
            "0      DIAKO Krankenhaus gGmbH, Knuthstraße 1, Flensburg   \n",
            "1      DIAKO Krankenhaus gGmbH, Knuthstraße 1, Flensburg   \n",
            "2      DIAKO Krankenhaus gGmbH, Knuthstraße 1, Flensburg   \n",
            "3      DIAKO Krankenhaus gGmbH, Knuthstraße 1, Flensburg   \n",
            "4      DIAKO Krankenhaus gGmbH, Knuthstraße 1, Flensburg   \n",
            "...                                                  ...   \n",
            "11777  Klinikum Altenburger Land GmbH, Am Waldessaum ...   \n",
            "11778  Klinikum Altenburger Land GmbH, Am Waldessaum ...   \n",
            "11779  Klinikum Altenburger Land GmbH, Am Waldessaum ...   \n",
            "11780  Klinikum Altenburger Land GmbH, Am Waldessaum ...   \n",
            "11781  Klinikum Altenburger Land GmbH, Am Waldessaum ...   \n",
            "\n",
            "                                 name        strasze hausnr      stadt  \\\n",
            "0             DIAKO Krankenhaus gGmbH    Knuthstraße      1  Flensburg   \n",
            "1             DIAKO Krankenhaus gGmbH    Knuthstraße      1  Flensburg   \n",
            "2             DIAKO Krankenhaus gGmbH    Knuthstraße      1  Flensburg   \n",
            "3             DIAKO Krankenhaus gGmbH    Knuthstraße      1  Flensburg   \n",
            "4             DIAKO Krankenhaus gGmbH    Knuthstraße      1  Flensburg   \n",
            "...                               ...            ...    ...        ...   \n",
            "11777  Klinikum Altenburger Land GmbH  Am Waldessaum     10  Altenburg   \n",
            "11778  Klinikum Altenburger Land GmbH  Am Waldessaum     10  Altenburg   \n",
            "11779  Klinikum Altenburger Land GmbH  Am Waldessaum     10  Altenburg   \n",
            "11780  Klinikum Altenburger Land GmbH  Am Waldessaum     10  Altenburg   \n",
            "11781  Klinikum Altenburger Land GmbH  Am Waldessaum     10  Altenburg   \n",
            "\n",
            "       bundesland                     place_id  bewertung  \\\n",
            "0             1.0  ChIJU6MRELlCs0cRaU7ePDewy34          5   \n",
            "1             1.0  ChIJU6MRELlCs0cRaU7ePDewy34          5   \n",
            "2             1.0  ChIJU6MRELlCs0cRaU7ePDewy34          5   \n",
            "3             1.0  ChIJU6MRELlCs0cRaU7ePDewy34          1   \n",
            "4             1.0  ChIJU6MRELlCs0cRaU7ePDewy34          1   \n",
            "...           ...                          ...        ...   \n",
            "11777        16.0  ChIJ9yvAKoIgp0cRQCruo2WSxyU          5   \n",
            "11778        16.0  ChIJ9yvAKoIgp0cRQCruo2WSxyU          5   \n",
            "11779        16.0  ChIJ9yvAKoIgp0cRQCruo2WSxyU          5   \n",
            "11780        16.0  ChIJ9yvAKoIgp0cRQCruo2WSxyU          5   \n",
            "11781        16.0  ChIJ9yvAKoIgp0cRQCruo2WSxyU          5   \n",
            "\n",
            "                                               rezension                  zeit  \n",
            "0      Von A-Z positiv. Teil 1\\nVom Reinigungspersona...       vor einer Woche  \n",
            "1      Ich kann die vielen schlechten Rezensionen übe...          vor 3 Wochen  \n",
            "2      Ich bin total begeistert von dem Personal  auf...       vor einer Woche  \n",
            "3      Enttäuschende Erfahrung in der Notaufnahme\\n\\n...          vor 2 Wochen  \n",
            "4      Das Personal in der Aufnahme ist überfordert u...  in der letzten Woche  \n",
            "...                                                  ...                   ...  \n",
            "11777  Meine 81 Jährige Mutter wurde auf Station 24 b...          vor 2 Wochen  \n",
            "11778  Absolut zufrieden mit dem Service und vorallem...       vor einem Monat  \n",
            "11779  Ich kann jetzt nur für Kreißsaal sowie Station...         vor 2 Monaten  \n",
            "11780  Durch das schnelle und kompetente Handeln alle...         vor 2 Monaten  \n",
            "11781  Vielen lieben Dank an das gesamte Team der Sta...         vor 4 Monaten  \n",
            "\n",
            "[11782 rows x 10 columns]\n"
          ]
        }
      ]
    },
    {
      "cell_type": "markdown",
      "source": [
        "Validierung der automatischen Abrufe: Zufallsstichprobe & manueller Abgleich"
      ],
      "metadata": {
        "id": "3kNZuQ7Ll3F3"
      }
    },
    {
      "cell_type": "code",
      "source": [
        "csv_no_doubles_pfad = '/content/06_data_raw_no_doubles.csv'\n",
        "\n",
        "df = pd.read_csv(csv_no_doubles_pfad)\n",
        "\n",
        "def zufallsstichprobe(csv_pfad, stichprobengroesse=100, zufalls_seed=42): #seed 42\n",
        "    df = pd.read_csv(csv_pfad)\n",
        "\n",
        "    # Zufallsstichprobe ziehen\n",
        "    stichprobe_df = df.sample(n=min(stichprobengroesse, len(df)), random_state=zufalls_seed)\n",
        "\n",
        "    return stichprobe_df\n",
        "\n",
        "# Beispielaufruf:\n",
        "csv_datei = csv_no_doubles_pfad # Ersetzen Sie dies durch den tatsächlichen Dateinamen\n",
        "stichprobe = zufallsstichprobe(csv_datei, stichprobengroesse=100, zufalls_seed=42)\n",
        "\n",
        "print(stichprobe)\n",
        "\n",
        "# Die Stichprobe in eine neue CSV-Datei speichern (optional):\n",
        "stichprobe.to_csv(\"07_stichprobe_validierung.csv\", index=False)"
      ],
      "metadata": {
        "id": "FijvKwsZl-Km"
      },
      "execution_count": null,
      "outputs": []
    }
  ]
}