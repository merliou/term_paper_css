{
  "nbformat": 4,
  "nbformat_minor": 0,
  "metadata": {
    "colab": {
      "provenance": []
    },
    "kernelspec": {
      "name": "python3",
      "display_name": "Python 3"
    },
    "language_info": {
      "name": "python"
    }
  },
  "cells": [
    {
      "cell_type": "markdown",
      "source": [
        "Packages laden"
      ],
      "metadata": {
        "id": "4_dqpQXVgm65"
      }
    },
    {
      "cell_type": "code",
      "source": [
        "!pip install pandas\n",
        "import pandas as pd"
      ],
      "metadata": {
        "id": "hLdud861gp-d",
        "outputId": "0e25f764-233d-46dd-d041-b9e7847d9fa7",
        "colab": {
          "base_uri": "https://localhost:8080/"
        }
      },
      "execution_count": 1,
      "outputs": [
        {
          "output_type": "stream",
          "name": "stdout",
          "text": [
            "Requirement already satisfied: pandas in /usr/local/lib/python3.11/dist-packages (2.2.2)\n",
            "Requirement already satisfied: numpy>=1.23.2 in /usr/local/lib/python3.11/dist-packages (from pandas) (1.26.4)\n",
            "Requirement already satisfied: python-dateutil>=2.8.2 in /usr/local/lib/python3.11/dist-packages (from pandas) (2.8.2)\n",
            "Requirement already satisfied: pytz>=2020.1 in /usr/local/lib/python3.11/dist-packages (from pandas) (2025.1)\n",
            "Requirement already satisfied: tzdata>=2022.7 in /usr/local/lib/python3.11/dist-packages (from pandas) (2025.1)\n",
            "Requirement already satisfied: six>=1.5 in /usr/local/lib/python3.11/dist-packages (from python-dateutil>=2.8.2->pandas) (1.17.0)\n"
          ]
        }
      ]
    },
    {
      "cell_type": "markdown",
      "source": [
        "Pfade definieren !!entsprechende Dateien hochladen!!"
      ],
      "metadata": {
        "id": "QHYGkuc0qYJ8"
      }
    },
    {
      "cell_type": "code",
      "source": [
        "csv_data_raw = [r'/content/4_1_ergebnisse.csv', r'/content/4_2_ergebnisse.csv', r'/content/4_3_ergebnisse.csv', r'/content/4_4_ergebnisse.csv']\n",
        "\n",
        "csv_pfad = '/content/05_csv_data_raw.csv' # nicht wundern, hatte datei zwischenzeitlich umbenannt\n",
        "\n",
        "csv_no_doubles_pfad = '/content/06_data_raw_no_doubles.csv'"
      ],
      "metadata": {
        "id": "Slx22u6-qeVa"
      },
      "execution_count": 2,
      "outputs": []
    },
    {
      "cell_type": "markdown",
      "source": [
        "Merging all four data subsets"
      ],
      "metadata": {
        "id": "wiKDtXQ-LvBr"
      }
    },
    {
      "cell_type": "code",
      "execution_count": null,
      "metadata": {
        "id": "nRZpq-UbK7Mc",
        "outputId": "97ba941a-6318-4a32-b32e-038f0681c227",
        "colab": {
          "base_uri": "https://localhost:8080/"
        }
      },
      "outputs": [
        {
          "output_type": "stream",
          "name": "stdout",
          "text": [
            "Requirement already satisfied: pandas in /usr/local/lib/python3.11/dist-packages (2.2.2)\n",
            "Requirement already satisfied: numpy>=1.23.2 in /usr/local/lib/python3.11/dist-packages (from pandas) (1.26.4)\n",
            "Requirement already satisfied: python-dateutil>=2.8.2 in /usr/local/lib/python3.11/dist-packages (from pandas) (2.8.2)\n",
            "Requirement already satisfied: pytz>=2020.1 in /usr/local/lib/python3.11/dist-packages (from pandas) (2025.1)\n",
            "Requirement already satisfied: tzdata>=2022.7 in /usr/local/lib/python3.11/dist-packages (from pandas) (2025.1)\n",
            "Requirement already satisfied: six>=1.5 in /usr/local/lib/python3.11/dist-packages (from python-dateutil>=2.8.2->pandas) (1.17.0)\n"
          ]
        }
      ],
      "source": [
        "df = pd.concat((pd.read_csv(f) for f in csv_data_raw), ignore_index=True)\n",
        "\n",
        "df.to_csv('csv_data_raw.csv', index=False)"
      ]
    },
    {
      "cell_type": "markdown",
      "source": [
        "Manche Orte wurden doppelt abgerufen. Entfernung von Dopplungen in den Rezensionen."
      ],
      "metadata": {
        "id": "Ezr9gDgVgTNn"
      }
    },
    {
      "cell_type": "code",
      "source": [
        "def entferne_doppelte_rezensionen(csv_pfad, anzahl_rezensionen=5):\n",
        "    df = pd.read_csv(csv_pfad)\n",
        "\n",
        "    # Doppelte Rezensionen basierend auf place_id und rezension entfernen\n",
        "    df = df.drop_duplicates(subset=['place_id', 'rezension'], keep='first')\n",
        "\n",
        "    # Anzahl der Rezensionen pro Ort begrenzen\n",
        "    df = df.groupby('place_id').head(anzahl_rezensionen).reset_index(drop=True)\n",
        "\n",
        "    return df\n",
        "\n",
        "# Funktionsaufruf\n",
        "ergebnis_df = entferne_doppelte_rezensionen(csv_pfad)\n",
        "\n",
        "# Das bereinigte DataFrame anzeigen (optional)\n",
        "print(ergebnis_df)\n",
        "\n",
        "# Das bereinigte DataFrame in eine neue CSV-Datei speichern (optional)\n",
        "ergebnis_df.to_csv(\"06_data_raw_no_doubles.csv\", index=False)"
      ],
      "metadata": {
        "id": "BZVwj8xtghz9",
        "outputId": "e3f4c742-23aa-4bef-a64b-470438ce2a7b",
        "colab": {
          "base_uri": "https://localhost:8080/"
        }
      },
      "execution_count": null,
      "outputs": [
        {
          "output_type": "stream",
          "name": "stdout",
          "text": [
            "                                                     ort  \\\n",
            "0      DIAKO Krankenhaus gGmbH, Knuthstraße 1, Flensburg   \n",
            "1      DIAKO Krankenhaus gGmbH, Knuthstraße 1, Flensburg   \n",
            "2      DIAKO Krankenhaus gGmbH, Knuthstraße 1, Flensburg   \n",
            "3      DIAKO Krankenhaus gGmbH, Knuthstraße 1, Flensburg   \n",
            "4      DIAKO Krankenhaus gGmbH, Knuthstraße 1, Flensburg   \n",
            "...                                                  ...   \n",
            "11777  Klinikum Altenburger Land GmbH, Am Waldessaum ...   \n",
            "11778  Klinikum Altenburger Land GmbH, Am Waldessaum ...   \n",
            "11779  Klinikum Altenburger Land GmbH, Am Waldessaum ...   \n",
            "11780  Klinikum Altenburger Land GmbH, Am Waldessaum ...   \n",
            "11781  Klinikum Altenburger Land GmbH, Am Waldessaum ...   \n",
            "\n",
            "                                 name        strasze hausnr      stadt  \\\n",
            "0             DIAKO Krankenhaus gGmbH    Knuthstraße      1  Flensburg   \n",
            "1             DIAKO Krankenhaus gGmbH    Knuthstraße      1  Flensburg   \n",
            "2             DIAKO Krankenhaus gGmbH    Knuthstraße      1  Flensburg   \n",
            "3             DIAKO Krankenhaus gGmbH    Knuthstraße      1  Flensburg   \n",
            "4             DIAKO Krankenhaus gGmbH    Knuthstraße      1  Flensburg   \n",
            "...                               ...            ...    ...        ...   \n",
            "11777  Klinikum Altenburger Land GmbH  Am Waldessaum     10  Altenburg   \n",
            "11778  Klinikum Altenburger Land GmbH  Am Waldessaum     10  Altenburg   \n",
            "11779  Klinikum Altenburger Land GmbH  Am Waldessaum     10  Altenburg   \n",
            "11780  Klinikum Altenburger Land GmbH  Am Waldessaum     10  Altenburg   \n",
            "11781  Klinikum Altenburger Land GmbH  Am Waldessaum     10  Altenburg   \n",
            "\n",
            "       bundesland                     place_id  bewertung  \\\n",
            "0             1.0  ChIJU6MRELlCs0cRaU7ePDewy34          5   \n",
            "1             1.0  ChIJU6MRELlCs0cRaU7ePDewy34          5   \n",
            "2             1.0  ChIJU6MRELlCs0cRaU7ePDewy34          5   \n",
            "3             1.0  ChIJU6MRELlCs0cRaU7ePDewy34          1   \n",
            "4             1.0  ChIJU6MRELlCs0cRaU7ePDewy34          1   \n",
            "...           ...                          ...        ...   \n",
            "11777        16.0  ChIJ9yvAKoIgp0cRQCruo2WSxyU          5   \n",
            "11778        16.0  ChIJ9yvAKoIgp0cRQCruo2WSxyU          5   \n",
            "11779        16.0  ChIJ9yvAKoIgp0cRQCruo2WSxyU          5   \n",
            "11780        16.0  ChIJ9yvAKoIgp0cRQCruo2WSxyU          5   \n",
            "11781        16.0  ChIJ9yvAKoIgp0cRQCruo2WSxyU          5   \n",
            "\n",
            "                                               rezension                  zeit  \n",
            "0      Von A-Z positiv. Teil 1\\nVom Reinigungspersona...       vor einer Woche  \n",
            "1      Ich kann die vielen schlechten Rezensionen übe...          vor 3 Wochen  \n",
            "2      Ich bin total begeistert von dem Personal  auf...       vor einer Woche  \n",
            "3      Enttäuschende Erfahrung in der Notaufnahme\\n\\n...          vor 2 Wochen  \n",
            "4      Das Personal in der Aufnahme ist überfordert u...  in der letzten Woche  \n",
            "...                                                  ...                   ...  \n",
            "11777  Meine 81 Jährige Mutter wurde auf Station 24 b...          vor 2 Wochen  \n",
            "11778  Absolut zufrieden mit dem Service und vorallem...       vor einem Monat  \n",
            "11779  Ich kann jetzt nur für Kreißsaal sowie Station...         vor 2 Monaten  \n",
            "11780  Durch das schnelle und kompetente Handeln alle...         vor 2 Monaten  \n",
            "11781  Vielen lieben Dank an das gesamte Team der Sta...         vor 4 Monaten  \n",
            "\n",
            "[11782 rows x 10 columns]\n"
          ]
        }
      ]
    },
    {
      "cell_type": "markdown",
      "source": [
        "Validierung der automatischen Abrufe: Zufallsstichprobe & manueller Abgleich"
      ],
      "metadata": {
        "id": "3kNZuQ7Ll3F3"
      }
    },
    {
      "cell_type": "code",
      "source": [
        "df = pd.read_csv(csv_no_doubles_pfad) #siehe oben\n",
        "\n",
        "def zufallsstichprobe(csv_pfad, stichprobengroesse=100, zufalls_seed=42): #seed 42\n",
        "    df = pd.read_csv(csv_no_doubles_pfad)\n",
        "\n",
        "    # Zufallsstichprobe ziehen\n",
        "    stichprobe_df = df.sample(n=min(stichprobengroesse, len(df)), random_state=zufalls_seed)\n",
        "\n",
        "    return stichprobe_df\n",
        "\n",
        "# Beispielaufruf:\n",
        "csv_datei = csv_no_doubles_pfad # Ersetzen Sie dies durch den tatsächlichen Dateinamen\n",
        "stichprobe = zufallsstichprobe(csv_datei, stichprobengroesse=100, zufalls_seed=42)\n",
        "\n",
        "print(stichprobe)\n",
        "\n",
        "# Die Stichprobe in eine neue CSV-Datei speichern (optional):\n",
        "stichprobe.to_csv(\"07_stichprobe_validierung.csv\", index=False)"
      ],
      "metadata": {
        "id": "FijvKwsZl-Km",
        "outputId": "77c2fb07-3915-4c6e-b806-7d0bfbb8d10c",
        "colab": {
          "base_uri": "https://localhost:8080/"
        }
      },
      "execution_count": 3,
      "outputs": [
        {
          "output_type": "stream",
          "name": "stdout",
          "text": [
            "                                                     ort  \\\n",
            "2507   Alexius/Josef Krankenhaus, Montanusstraße 54, ...   \n",
            "11482  Sophien- und Hufeland-Klinikum gGmbH, Henry-va...   \n",
            "4207   Ev. Krankenhaus Lippstadt, Wiedenbrücker Straß...   \n",
            "1935   Rotes-Kreuz-Krankenhaus Bremen gGmbH, St.-Paul...   \n",
            "7768   Klinik Dr. Wilhelm, Hans-Urmiller-Ring 46, Wol...   \n",
            "...                                                  ...   \n",
            "10769  Hauptstandort Rudolf-Virchow-Klinikum, Virchow...   \n",
            "10563  Sana HANSE-Klinikum Wismar GmbH, Dr.-Unruh-Str...   \n",
            "8830   Bezirksklinikum Ansbach, Paracelsusstraße 36, ...   \n",
            "5006   Helios Kliniken Kassel, Hansteinstraße 29, Kassel   \n",
            "4216       LWL-Klinik Lippstadt, Im Hofholz 6, Lippstadt   \n",
            "\n",
            "                                        name                    strasze  \\\n",
            "2507               Alexius/Josef Krankenhaus             Montanusstraße   \n",
            "11482   Sophien- und Hufeland-Klinikum gGmbH  Henry-van-de-Velde-Straße   \n",
            "4207               Ev. Krankenhaus Lippstadt       Wiedenbrücker Straße   \n",
            "1935    Rotes-Kreuz-Krankenhaus Bremen gGmbH            St.-Pauli-Deich   \n",
            "7768                      Klinik Dr. Wilhelm         Hans-Urmiller-Ring   \n",
            "...                                      ...                        ...   \n",
            "10769  Hauptstandort Rudolf-Virchow-Klinikum                Virchowstr.   \n",
            "10563        Sana HANSE-Klinikum Wismar GmbH           Dr.-Unruh-Straße   \n",
            "8830                 Bezirksklinikum Ansbach           Paracelsusstraße   \n",
            "5006                  Helios Kliniken Kassel             Hansteinstraße   \n",
            "4216                    LWL-Klinik Lippstadt                 Im Hofholz   \n",
            "\n",
            "      hausnr                 stadt  bundesland                     place_id  \\\n",
            "2507      54          Grevenbroich         5.0  ChIJw7FzZxBMv0cRjlEgBW8E8q8   \n",
            "11482      2                Weimar        16.0  ChIJsXwo-S0FpEcRFkfrck38uL4   \n",
            "4207      33             Lippstadt         5.0  ChIJN-EgMv_Su0cR59EAVFIp7Og   \n",
            "1935     NaN                Bremen         4.0  ChIJh7ETvx4osUcRyTTKEulnwVw   \n",
            "7768      46        Wolfratshausen         9.0  ChIJzyXJjKPGnUcR6pbD81dI7JU   \n",
            "...      ...                   ...         ...                          ...   \n",
            "10769     18              Glauchau        14.0  ChIJ0a9ezKQvp0cR9LyxJpurJao   \n",
            "10563     14                Wismar        13.0  ChIJJzo-TVjHrUcRswybCjK0bIU   \n",
            "8830      36  Neustadt a. d. Aisch         9.0  ChIJn58c59kLokcRVMusIFGWHLw   \n",
            "5006      29                Kassel         6.0  ChIJtwosb2U_u0cRF_gesuG38XE   \n",
            "4216       6             Lippstadt         5.0  ChIJ_fI8VCTUu0cRnlWefvOgJPQ   \n",
            "\n",
            "       bewertung                                          rezension  \\\n",
            "2507           5  Bin die fünfte Woche in der Tagesklinik St. Au...   \n",
            "11482          5  Ich mußte eine OP in der Tagesklinik machen la...   \n",
            "4207           1  Leider wurde uns in der Notfallambulanz überha...   \n",
            "1935           5  Mein Vater wurde letzte Woche an der Hals-Ober...   \n",
            "7768           5  Ich war wegen einer OP durch meine Chirurgin i...   \n",
            "...          ...                                                ...   \n",
            "10769          5  Haben hier vor kurzem entbunden. Alles war top...   \n",
            "10563          1  Wer die Möglichkeit besitzt sollte dringend ei...   \n",
            "8830           5  Beste Einrichtung im Universum\\nAls Ich hier a...   \n",
            "5006           1  Mein Mann wurde morgens etwa um 10 Uhr aufgrun...   \n",
            "4216           5  Es war im Jahr 2020. Nichts ging mehr. Nicht g...   \n",
            "\n",
            "                       zeit  \n",
            "2507           vor 2 Jahren  \n",
            "11482          vor 3 Wochen  \n",
            "4207   in der letzten Woche  \n",
            "1935          vor 3 Monaten  \n",
            "7768        vor einem Monat  \n",
            "...                     ...  \n",
            "10769         vor 2 Monaten  \n",
            "10563       vor einer Woche  \n",
            "8830         vor 10 Monaten  \n",
            "5006        vor einem Monat  \n",
            "4216           vor 2 Jahren  \n",
            "\n",
            "[100 rows x 10 columns]\n"
          ]
        }
      ]
    }
  ]
}