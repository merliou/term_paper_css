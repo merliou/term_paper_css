{
  "nbformat": 4,
  "nbformat_minor": 0,
  "metadata": {
    "colab": {
      "provenance": [],
      "authorship_tag": "ABX9TyPtxQ/JP3OSyCtpaGDi08aB",
      "include_colab_link": true
    },
    "kernelspec": {
      "name": "python3",
      "display_name": "Python 3"
    },
    "language_info": {
      "name": "python"
    }
  },
  "cells": [
    {
      "cell_type": "markdown",
      "metadata": {
        "id": "view-in-github",
        "colab_type": "text"
      },
      "source": [
        "<a href=\"https://colab.research.google.com/github/merliou/term_paper_css/blob/main/stm_try_01.ipynb\" target=\"_parent\"><img src=\"https://colab.research.google.com/assets/colab-badge.svg\" alt=\"Open In Colab\"/></a>"
      ]
    },
    {
      "cell_type": "code",
      "source": [
        "!pip install pandas nltk gensim pyLDAvis\n",
        "import pandas as pd\n",
        "import re\n",
        "from nltk.corpus import stopwords\n",
        "from nltk.stem.snowball import SnowballStemmer\n",
        "from gensim.corpora import Dictionary\n",
        "from gensim.models import LdaModel\n",
        "import pyLDAvis.gensim_models as gensimvis\n",
        "import pyLDAvis"
      ],
      "metadata": {
        "colab": {
          "base_uri": "https://localhost:8080/"
        },
        "id": "BUVj0e5qDSaF",
        "outputId": "b5843260-9c99-4f87-921f-b1d9fcc5062b"
      },
      "execution_count": 1,
      "outputs": [
        {
          "output_type": "stream",
          "name": "stdout",
          "text": [
            "Requirement already satisfied: pandas in /usr/local/lib/python3.11/dist-packages (2.2.2)\n",
            "Requirement already satisfied: nltk in /usr/local/lib/python3.11/dist-packages (3.9.1)\n",
            "Requirement already satisfied: gensim in /usr/local/lib/python3.11/dist-packages (4.3.3)\n",
            "Requirement already satisfied: pyLDAvis in /usr/local/lib/python3.11/dist-packages (3.4.1)\n",
            "Requirement already satisfied: numpy>=1.23.2 in /usr/local/lib/python3.11/dist-packages (from pandas) (1.26.4)\n",
            "Requirement already satisfied: python-dateutil>=2.8.2 in /usr/local/lib/python3.11/dist-packages (from pandas) (2.8.2)\n",
            "Requirement already satisfied: pytz>=2020.1 in /usr/local/lib/python3.11/dist-packages (from pandas) (2025.1)\n",
            "Requirement already satisfied: tzdata>=2022.7 in /usr/local/lib/python3.11/dist-packages (from pandas) (2025.1)\n",
            "Requirement already satisfied: click in /usr/local/lib/python3.11/dist-packages (from nltk) (8.1.8)\n",
            "Requirement already satisfied: joblib in /usr/local/lib/python3.11/dist-packages (from nltk) (1.4.2)\n",
            "Requirement already satisfied: regex>=2021.8.3 in /usr/local/lib/python3.11/dist-packages (from nltk) (2024.11.6)\n",
            "Requirement already satisfied: tqdm in /usr/local/lib/python3.11/dist-packages (from nltk) (4.67.1)\n",
            "Requirement already satisfied: scipy<1.14.0,>=1.7.0 in /usr/local/lib/python3.11/dist-packages (from gensim) (1.13.1)\n",
            "Requirement already satisfied: smart-open>=1.8.1 in /usr/local/lib/python3.11/dist-packages (from gensim) (7.1.0)\n",
            "Requirement already satisfied: jinja2 in /usr/local/lib/python3.11/dist-packages (from pyLDAvis) (3.1.6)\n",
            "Requirement already satisfied: numexpr in /usr/local/lib/python3.11/dist-packages (from pyLDAvis) (2.10.2)\n",
            "Requirement already satisfied: funcy in /usr/local/lib/python3.11/dist-packages (from pyLDAvis) (2.0)\n",
            "Requirement already satisfied: scikit-learn>=1.0.0 in /usr/local/lib/python3.11/dist-packages (from pyLDAvis) (1.6.1)\n",
            "Requirement already satisfied: setuptools in /usr/local/lib/python3.11/dist-packages (from pyLDAvis) (75.1.0)\n",
            "Requirement already satisfied: six>=1.5 in /usr/local/lib/python3.11/dist-packages (from python-dateutil>=2.8.2->pandas) (1.17.0)\n",
            "Requirement already satisfied: threadpoolctl>=3.1.0 in /usr/local/lib/python3.11/dist-packages (from scikit-learn>=1.0.0->pyLDAvis) (3.6.0)\n",
            "Requirement already satisfied: wrapt in /usr/local/lib/python3.11/dist-packages (from smart-open>=1.8.1->gensim) (1.17.2)\n",
            "Requirement already satisfied: MarkupSafe>=2.0 in /usr/local/lib/python3.11/dist-packages (from jinja2->pyLDAvis) (3.0.2)\n"
          ]
        }
      ]
    },
    {
      "cell_type": "code",
      "execution_count": null,
      "metadata": {
        "id": "xk7XoR7lC6tO"
      },
      "outputs": [],
      "source": [
        "# 1. Daten laden und vorbereiten\n",
        "def load_and_preprocess(file_path):\n",
        "    \"\"\"Lädt die Daten, entfernt Stoppwörter, stemmt und bereinigt den Text.\"\"\"\n",
        "    df = pd.read_csv(r'/content/06_data_raw_no_doubles.csv')\n",
        "\n",
        "    # Text in Kleinbuchstaben umwandeln\n",
        "    df['text'] = df['text'].str.lower()\n",
        "\n",
        "    # Satzzeichen entfernen\n",
        "    df['text'] = df['text'].apply(lambda x: re.sub(r'[^\\w\\s]', '', x))\n",
        "\n",
        "    # Stoppwörter entfernen\n",
        "    stop_words = set(stopwords.words('german'))  # oder 'english', falls die Rezensionen auf Englisch sind\n",
        "    df['text'] = df['text'].apply(lambda x: ' '.join([word for word in x.split() if word not in stop_words]))\n",
        "\n",
        "    # Stemming\n",
        "    stemmer = SnowballStemmer('german')  # oder 'english'\n",
        "    df['text'] = df['text'].apply(lambda x: ' '.join([stemmer.stem(word) for word in x.split()]))\n",
        "\n",
        "    return df\n",
        "\n",
        "\n",
        "# 2. Dokument-Term-Matrix erstellen\n",
        "def create_document_term_matrix(df):\n",
        "    \"\"\"Erstellt eine Dokument-Term-Matrix.\"\"\"\n",
        "    documents = [doc.split() for doc in df['text']]\n",
        "    dictionary = Dictionary(documents)\n",
        "\n",
        "    # Seltende und häufige Wörter filtern (entsprechend der Studie)\n",
        "    dictionary.filter_extremes(no_below=int(len(documents) * 0.01), no_above=0.2)\n",
        "\n",
        "    corpus = [dictionary.doc2bow(doc) for doc in documents]\n",
        "    return corpus, dictionary\n",
        "\n",
        "\n",
        "# 3. STM mit LDA approximieren und Modell evaluieren\n",
        "def train_lda_model(corpus, dictionary, num_topics, passes=10, iterations=400):\n",
        "    \"\"\"Trainiert das LDA-Modell.\"\"\"\n",
        "    lda_model = LdaModel(corpus, num_topics=num_topics, id2word=dictionary, passes=passes, iterations=iterations)\n",
        "    return lda_model\n",
        "\n",
        "\n",
        "# 4. Themen visualisieren und interpretieren\n",
        "def visualize_topics(lda_model, corpus, dictionary):\n",
        "    \"\"\"Visualisiert die Themen mit pyLDAvis.\"\"\"\n",
        "    vis = gensimvis.prepare(lda_model, corpus, dictionary)\n",
        "    pyLDAvis.display(vis)\n",
        "\n",
        "\n",
        "# 5. Durchführung (Beispiel)\n",
        "if __name__ == '__main__':\n",
        "    file_path = 'your_data.csv'  # Anpassen!\n",
        "    df = load_and_preprocess(file_path)\n",
        "    corpus, dictionary = create_document_term_matrix(df)\n",
        "\n",
        "    # Modellauswahl (basierend auf Kohärenz und Exklusivität - hier nur ein Beispiel)\n",
        "    num_topics = 50  # Hier die Anzahl der Themen wählen, die am besten passen\n",
        "    lda_model = train_lda_model(corpus, dictionary, num_topics)\n",
        "\n",
        "    visualize_topics(lda_model, corpus, dictionary)\n",
        "\n",
        "    # Themen interpretieren (die wichtigsten Wörter und Beispiele anzeigen lassen)\n",
        "    for topic_id in range(num_topics):\n",
        "        top_words = lda_model.show_topic(topic_id, topn=10)  # Top 10 Wörter pro Thema\n",
        "        print(f\"Topic {topic_id}: {', '.join([word for word, prob in top_words])}\")"
      ]
    }
  ]
}