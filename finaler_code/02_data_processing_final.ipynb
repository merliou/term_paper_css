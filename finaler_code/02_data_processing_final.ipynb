{
  "nbformat": 4,
  "nbformat_minor": 0,
  "metadata": {
    "colab": {
      "provenance": []
    },
    "kernelspec": {
      "name": "python3",
      "display_name": "Python 3"
    },
    "language_info": {
      "name": "python"
    }
  },
  "cells": [
    {
      "cell_type": "markdown",
      "source": [
        "Abhängigkeiten installieren und Packages laden"
      ],
      "metadata": {
        "id": "4_dqpQXVgm65"
      }
    },
    {
      "cell_type": "code",
      "source": [
        "!pip install pandas\n",
        "!pip install numpy\n",
        "\n",
        "import pandas as pd\n",
        "import numpy as np\n",
        "\n",
        "# wenn es nicht läuft runtime neu starten"
      ],
      "metadata": {
        "id": "hLdud861gp-d",
        "outputId": "a930f51a-7087-4d71-b24d-4968329ac760",
        "colab": {
          "base_uri": "https://localhost:8080/"
        },
        "collapsed": true
      },
      "execution_count": null,
      "outputs": [
        {
          "output_type": "stream",
          "name": "stdout",
          "text": [
            "Requirement already satisfied: pandas in /usr/local/lib/python3.11/dist-packages (2.2.2)\n",
            "Requirement already satisfied: numpy>=1.23.2 in /usr/local/lib/python3.11/dist-packages (from pandas) (2.0.2)\n",
            "Requirement already satisfied: python-dateutil>=2.8.2 in /usr/local/lib/python3.11/dist-packages (from pandas) (2.8.2)\n",
            "Requirement already satisfied: pytz>=2020.1 in /usr/local/lib/python3.11/dist-packages (from pandas) (2025.1)\n",
            "Requirement already satisfied: tzdata>=2022.7 in /usr/local/lib/python3.11/dist-packages (from pandas) (2025.1)\n",
            "Requirement already satisfied: six>=1.5 in /usr/local/lib/python3.11/dist-packages (from python-dateutil>=2.8.2->pandas) (1.17.0)\n",
            "Requirement already satisfied: numpy in /usr/local/lib/python3.11/dist-packages (2.0.2)\n"
          ]
        }
      ]
    },
    {
      "cell_type": "markdown",
      "source": [
        "Subsets zusammenführen, Dopplungen entfernen"
      ],
      "metadata": {
        "id": "QHYGkuc0qYJ8"
      }
    },
    {
      "cell_type": "code",
      "source": [
        "csv_data_raw = [r'/content/4_1_ergebnisse.csv', r'/content/4_2_ergebnisse.csv', r'/content/4_3_ergebnisse.csv', r'/content/4_4_ergebnisse.csv']\n",
        "\n",
        "csv_pfad = '/content/05_csv_data_raw.csv' # nicht wundern, hatte datei zwischenzeitlich umbenannt\n",
        "\n",
        "csv_no_doubles_pfad = '/content/06_data_raw_no_doubles.csv'\n",
        "\n",
        "df = pd.concat((pd.read_csv(f) for f in csv_data_raw), ignore_index=True)\n",
        "\n",
        "df.to_csv('csv_data_raw.csv', index=False)\n",
        "\n",
        "def entferne_doppelte_rezensionen(csv_pfad, anzahl_rezensionen=5):\n",
        "    df = pd.read_csv(csv_pfad)\n",
        "\n",
        "    # Doppelte Rezensionen basierend auf place_id und rezension entfernen\n",
        "    df = df.drop_duplicates(subset=['place_id', 'rezension'], keep='first')\n",
        "\n",
        "    # Anzahl der Rezensionen pro Ort begrenzen\n",
        "    df = df.groupby('place_id').head(anzahl_rezensionen).reset_index(drop=True)\n",
        "\n",
        "    return df\n",
        "\n",
        "# Funktionsaufruf\n",
        "ergebnis_df = entferne_doppelte_rezensionen(csv_pfad)\n",
        "\n",
        "# Das bereinigte DataFrame anzeigen (optional)\n",
        "print(ergebnis_df)\n",
        "\n",
        "# Das bereinigte DataFrame in eine neue CSV-Datei speichern (optional)\n",
        "ergebnis_df.to_csv(\"06_data_raw_no_doubles.csv\", index=False)"
      ],
      "metadata": {
        "id": "Slx22u6-qeVa"
      },
      "execution_count": null,
      "outputs": []
    },
    {
      "cell_type": "markdown",
      "source": [
        "\\#2 (Freitag, 28/03) - erweitertes Datenset, doubles entfernen"
      ],
      "metadata": {
        "id": "wi8y5W2Jg7XF"
      }
    },
    {
      "cell_type": "code",
      "source": [
        "csv_pfad = '/content/09_data_covariates_avg.csv' # nicht wundern, hatte datei zwischenzeitlich umbenannt\n",
        "\n",
        "csv_no_doubles_pfad = '/content/10_data_covs_avg_no_doubles.csv'\n",
        "\n",
        "def entferne_doppelte_rezensionen(csv_pfad, anzahl_rezensionen=5):\n",
        "    df = pd.read_csv(csv_pfad)\n",
        "\n",
        "    # Doppelte Rezensionen basierend auf place_id und rezension entfernen\n",
        "    df = df.drop_duplicates(subset=['place_id', 'rezension'], keep='first')\n",
        "\n",
        "    # Anzahl der Rezensionen pro Ort begrenzen\n",
        "    df = df.groupby('place_id').head(anzahl_rezensionen).reset_index(drop=True)\n",
        "\n",
        "    return df\n",
        "\n",
        "# Funktionsaufruf\n",
        "ergebnis_df = entferne_doppelte_rezensionen(csv_pfad)\n",
        "\n",
        "# Das bereinigte DataFrame anzeigen (optional)\n",
        "print(ergebnis_df)\n",
        "\n",
        "# Das bereinigte DataFrame in eine neue CSV-Datei speichern (optional)\n",
        "ergebnis_df.to_csv(\"10_data_covs_avg_no_doubles.csv\", index=False)"
      ],
      "metadata": {
        "id": "-i9jRcNag6qX",
        "outputId": "7f23cfee-0805-408a-bd1b-fa7948c9d82a",
        "colab": {
          "base_uri": "https://localhost:8080/"
        },
        "collapsed": true
      },
      "execution_count": null,
      "outputs": [
        {
          "output_type": "stream",
          "name": "stdout",
          "text": [
            "                                                     ort  \\\n",
            "0      DIAKO Krankenhaus gGmbH, Knuthstraße 1, Flensburg   \n",
            "1      DIAKO Krankenhaus gGmbH, Knuthstraße 1, Flensburg   \n",
            "2      DIAKO Krankenhaus gGmbH, Knuthstraße 1, Flensburg   \n",
            "3      DIAKO Krankenhaus gGmbH, Knuthstraße 1, Flensburg   \n",
            "4      DIAKO Krankenhaus gGmbH, Knuthstraße 1, Flensburg   \n",
            "...                                                  ...   \n",
            "11777  Klinikum Altenburger Land GmbH, Am Waldessaum ...   \n",
            "11778  Klinikum Altenburger Land GmbH, Am Waldessaum ...   \n",
            "11779  Klinikum Altenburger Land GmbH, Am Waldessaum ...   \n",
            "11780  Klinikum Altenburger Land GmbH, Am Waldessaum ...   \n",
            "11781  Klinikum Altenburger Land GmbH, Am Waldessaum ...   \n",
            "\n",
            "                               name_x        strasze hausnr      stadt  \\\n",
            "0             DIAKO Krankenhaus gGmbH    Knuthstraße      1  Flensburg   \n",
            "1             DIAKO Krankenhaus gGmbH    Knuthstraße      1  Flensburg   \n",
            "2             DIAKO Krankenhaus gGmbH    Knuthstraße      1  Flensburg   \n",
            "3             DIAKO Krankenhaus gGmbH    Knuthstraße      1  Flensburg   \n",
            "4             DIAKO Krankenhaus gGmbH    Knuthstraße      1  Flensburg   \n",
            "...                               ...            ...    ...        ...   \n",
            "11777  Klinikum Altenburger Land GmbH  Am Waldessaum     10  Altenburg   \n",
            "11778  Klinikum Altenburger Land GmbH  Am Waldessaum     10  Altenburg   \n",
            "11779  Klinikum Altenburger Land GmbH  Am Waldessaum     10  Altenburg   \n",
            "11780  Klinikum Altenburger Land GmbH  Am Waldessaum     10  Altenburg   \n",
            "11781  Klinikum Altenburger Land GmbH  Am Waldessaum     10  Altenburg   \n",
            "\n",
            "       bundesland                     place_id  bewertung  \\\n",
            "0             1.0  ChIJU6MRELlCs0cRaU7ePDewy34          5   \n",
            "1             1.0  ChIJU6MRELlCs0cRaU7ePDewy34          5   \n",
            "2             1.0  ChIJU6MRELlCs0cRaU7ePDewy34          5   \n",
            "3             1.0  ChIJU6MRELlCs0cRaU7ePDewy34          1   \n",
            "4             1.0  ChIJU6MRELlCs0cRaU7ePDewy34          1   \n",
            "...           ...                          ...        ...   \n",
            "11777        16.0  ChIJ9yvAKoIgp0cRQCruo2WSxyU          5   \n",
            "11778        16.0  ChIJ9yvAKoIgp0cRQCruo2WSxyU          5   \n",
            "11779        16.0  ChIJ9yvAKoIgp0cRQCruo2WSxyU          5   \n",
            "11780        16.0  ChIJ9yvAKoIgp0cRQCruo2WSxyU          5   \n",
            "11781        16.0  ChIJ9yvAKoIgp0cRQCruo2WSxyU          5   \n",
            "\n",
            "                                               rezension  \\\n",
            "0      Von A-Z positiv. Teil 1\\nVom Reinigungspersona...   \n",
            "1      Ich kann die vielen schlechten Rezensionen übe...   \n",
            "2      Ich bin total begeistert von dem Personal  auf...   \n",
            "3      Enttäuschende Erfahrung in der Notaufnahme\\n\\n...   \n",
            "4      Das Personal in der Aufnahme ist überfordert u...   \n",
            "...                                                  ...   \n",
            "11777  Meine 81 Jährige Mutter wurde auf Station 24 b...   \n",
            "11778  Absolut zufrieden mit dem Service und vorallem...   \n",
            "11779  Ich kann jetzt nur für Kreißsaal sowie Station...   \n",
            "11780  Durch das schnelle und kompetente Handeln alle...   \n",
            "11781  Vielen lieben Dank an das gesamte Team der Sta...   \n",
            "\n",
            "                       zeit  ...  Allgemeine_Notfallversorgung  \\\n",
            "0           vor einer Woche  ...                           2.0   \n",
            "1              vor 3 Wochen  ...                           2.0   \n",
            "2           vor einer Woche  ...                           2.0   \n",
            "3              vor 2 Wochen  ...                           2.0   \n",
            "4      in der letzten Woche  ...                           2.0   \n",
            "...                     ...  ...                           ...   \n",
            "11777          vor 2 Wochen  ...                           3.0   \n",
            "11778       vor einem Monat  ...                           3.0   \n",
            "11779         vor 2 Monaten  ...                           3.0   \n",
            "11780         vor 2 Monaten  ...                           3.0   \n",
            "11781         vor 4 Monaten  ...                           3.0   \n",
            "\n",
            "      Spezielle_Notfallversorgung_Schwerverletzte  \\\n",
            "0                                               1   \n",
            "1                                               1   \n",
            "2                                               1   \n",
            "3                                               1   \n",
            "4                                               1   \n",
            "...                                           ...   \n",
            "11777                                           2   \n",
            "11778                                           2   \n",
            "11779                                           2   \n",
            "11780                                           2   \n",
            "11781                                           2   \n",
            "\n",
            "       Spezielle_Notfallversorgung_Kinder  \\\n",
            "0                                       1   \n",
            "1                                       1   \n",
            "2                                       1   \n",
            "3                                       1   \n",
            "4                                       1   \n",
            "...                                   ...   \n",
            "11777                                   1   \n",
            "11778                                   1   \n",
            "11779                                   1   \n",
            "11780                                   1   \n",
            "11781                                   1   \n",
            "\n",
            "       Spezielle_Notfallversorgung_Spezial  \\\n",
            "0                                        2   \n",
            "1                                        2   \n",
            "2                                        2   \n",
            "3                                        2   \n",
            "4                                        2   \n",
            "...                                    ...   \n",
            "11777                                    2   \n",
            "11778                                    2   \n",
            "11779                                    2   \n",
            "11780                                    2   \n",
            "11781                                    2   \n",
            "\n",
            "       Spezielle_Notfallversorgung_Schlaganfall  \\\n",
            "0                                             1   \n",
            "1                                             1   \n",
            "2                                             1   \n",
            "3                                             1   \n",
            "4                                             1   \n",
            "...                                         ...   \n",
            "11777                                         2   \n",
            "11778                                         2   \n",
            "11779                                         2   \n",
            "11780                                         2   \n",
            "11781                                         2   \n",
            "\n",
            "       Spezielle_Notfallversorgung_Durchblutung_Herz  INSG  rating  \\\n",
            "0                                                  2   400     2.8   \n",
            "1                                                  2   400     2.8   \n",
            "2                                                  2   400     2.8   \n",
            "3                                                  2   400     2.8   \n",
            "4                                                  2   400     2.8   \n",
            "...                                              ...   ...     ...   \n",
            "11777                                              2   444     3.8   \n",
            "11778                                              2   444     3.8   \n",
            "11779                                              2   444     3.8   \n",
            "11780                                              2   444     3.8   \n",
            "11781                                              2   444     3.8   \n",
            "\n",
            "       total_ratings                          name_y  \n",
            "0                560     DIAKO Krankenhaus Flensburg  \n",
            "1                560     DIAKO Krankenhaus Flensburg  \n",
            "2                560     DIAKO Krankenhaus Flensburg  \n",
            "3                560     DIAKO Krankenhaus Flensburg  \n",
            "4                560     DIAKO Krankenhaus Flensburg  \n",
            "...              ...                             ...  \n",
            "11777            270  Klinikum Altenburger Land GmbH  \n",
            "11778            270  Klinikum Altenburger Land GmbH  \n",
            "11779            270  Klinikum Altenburger Land GmbH  \n",
            "11780            270  Klinikum Altenburger Land GmbH  \n",
            "11781            270  Klinikum Altenburger Land GmbH  \n",
            "\n",
            "[11782 rows x 23 columns]\n"
          ]
        }
      ]
    },
    {
      "cell_type": "markdown",
      "source": [
        "Rezensionen durchschnittliche Länge"
      ],
      "metadata": {
        "id": "wGeRB81Ngeto"
      }
    },
    {
      "cell_type": "code",
      "source": [
        "import pandas as pd\n",
        "import matplotlib.pyplot as plt\n",
        "\n",
        "# CSV-Datei einlesen\n",
        "df = pd.read_csv(\"10_data_covs_avg_no_doubles.csv\")\n",
        "\n",
        "# Berechne die Länge jeder Rezension\n",
        "df['rezension_laenge'] = df['rezension'].str.len()\n",
        "\n",
        "# Berechne die durchschnittliche Rezensionslänge\n",
        "durchschnittliche_laenge = df['rezension_laenge'].mean()\n",
        "print(f\"Die durchschnittliche Rezensionslänge beträgt: {durchschnittliche_laenge:.2f} Zeichen\")\n",
        "\n",
        "# Visualisierung (Histogramm der Rezensionslängen)\n",
        "plt.figure(figsize=(10, 6))\n",
        "plt.hist(df['rezension_laenge'], bins=30, color='skyblue', edgecolor='black')\n",
        "plt.title('Verteilung der Rezensionslängen')\n",
        "plt.xlabel('Rezensionslänge (Zeichen)')\n",
        "plt.ylabel('Anzahl der Rezensionen')\n",
        "plt.axvline(durchschnittliche_laenge, color='red', linestyle='dashed', linewidth=1, label=f'Durchschnitt: {durchschnittliche_laenge:.2f}')\n",
        "plt.legend()\n",
        "plt.show()"
      ],
      "metadata": {
        "id": "opWjf13_gmB9",
        "outputId": "f68ec794-afee-47d8-ced2-ddef43893195",
        "colab": {
          "base_uri": "https://localhost:8080/",
          "height": 564
        }
      },
      "execution_count": null,
      "outputs": [
        {
          "output_type": "display_data",
          "data": {
            "text/plain": [
              "<Figure size 1000x600 with 1 Axes>"
            ],
            "image/png": "[encoded data removed]"
          },
          "metadata": {}
        }
      ]
    },
    {
      "cell_type": "markdown",
      "source": [
        "Validierung der automatischen Abrufe: Zufallsstichprobe & manueller Abgleich"
      ],
      "metadata": {
        "id": "3kNZuQ7Ll3F3"
      }
    },
    {
      "cell_type": "code",
      "source": [
        "df = pd.read_csv(csv_no_doubles_pfad) #siehe oben\n",
        "\n",
        "def zufallsstichprobe(csv_pfad, stichprobengroesse=100, zufalls_seed=42): #seed 42\n",
        "    df = pd.read_csv(csv_no_doubles_pfad)\n",
        "\n",
        "    # Zufallsstichprobe ziehen\n",
        "    stichprobe_df = df.sample(n=min(stichprobengroesse, len(df)), random_state=zufalls_seed)\n",
        "\n",
        "    return stichprobe_df\n",
        "\n",
        "# Beispielaufruf:\n",
        "csv_datei = csv_no_doubles_pfad # Ersetzen Sie dies durch den tatsächlichen Dateinamen\n",
        "stichprobe = zufallsstichprobe(csv_datei, stichprobengroesse=100, zufalls_seed=42)\n",
        "\n",
        "# Die Stichprobe in eine neue CSV-Datei speichern (optional):\n",
        "stichprobe.to_csv(\"07_stichprobe_validierung.csv\", index=False)\n",
        "\n",
        "# Validierung manuell durchgeführt, für Kriterien siehe Hausarbeit;\n",
        "# Kodierung: 1 = valid; 0 = not valid or valid with restrictions;\n",
        "\n",
        "\n",
        "########## hier noch die Ergebnisse ausrechnen ###############"
      ],
      "metadata": {
        "id": "FijvKwsZl-Km",
        "outputId": "77c2fb07-3915-4c6e-b806-7d0bfbb8d10c",
        "colab": {
          "base_uri": "https://localhost:8080/"
        },
        "collapsed": true
      },
      "execution_count": null,
      "outputs": [
        {
          "output_type": "stream",
          "name": "stdout",
          "text": [
            "                                                     ort  \\\n",
            "2507   Alexius/Josef Krankenhaus, Montanusstraße 54, ...   \n",
            "11482  Sophien- und Hufeland-Klinikum gGmbH, Henry-va...   \n",
            "4207   Ev. Krankenhaus Lippstadt, Wiedenbrücker Straß...   \n",
            "1935   Rotes-Kreuz-Krankenhaus Bremen gGmbH, St.-Paul...   \n",
            "7768   Klinik Dr. Wilhelm, Hans-Urmiller-Ring 46, Wol...   \n",
            "...                                                  ...   \n",
            "10769  Hauptstandort Rudolf-Virchow-Klinikum, Virchow...   \n",
            "10563  Sana HANSE-Klinikum Wismar GmbH, Dr.-Unruh-Str...   \n",
            "8830   Bezirksklinikum Ansbach, Paracelsusstraße 36, ...   \n",
            "5006   Helios Kliniken Kassel, Hansteinstraße 29, Kassel   \n",
            "4216       LWL-Klinik Lippstadt, Im Hofholz 6, Lippstadt   \n",
            "\n",
            "                                        name                    strasze  \\\n",
            "2507               Alexius/Josef Krankenhaus             Montanusstraße   \n",
            "11482   Sophien- und Hufeland-Klinikum gGmbH  Henry-van-de-Velde-Straße   \n",
            "4207               Ev. Krankenhaus Lippstadt       Wiedenbrücker Straße   \n",
            "1935    Rotes-Kreuz-Krankenhaus Bremen gGmbH            St.-Pauli-Deich   \n",
            "7768                      Klinik Dr. Wilhelm         Hans-Urmiller-Ring   \n",
            "...                                      ...                        ...   \n",
            "10769  Hauptstandort Rudolf-Virchow-Klinikum                Virchowstr.   \n",
            "10563        Sana HANSE-Klinikum Wismar GmbH           Dr.-Unruh-Straße   \n",
            "8830                 Bezirksklinikum Ansbach           Paracelsusstraße   \n",
            "5006                  Helios Kliniken Kassel             Hansteinstraße   \n",
            "4216                    LWL-Klinik Lippstadt                 Im Hofholz   \n",
            "\n",
            "      hausnr                 stadt  bundesland                     place_id  \\\n",
            "2507      54          Grevenbroich         5.0  ChIJw7FzZxBMv0cRjlEgBW8E8q8   \n",
            "11482      2                Weimar        16.0  ChIJsXwo-S0FpEcRFkfrck38uL4   \n",
            "4207      33             Lippstadt         5.0  ChIJN-EgMv_Su0cR59EAVFIp7Og   \n",
            "1935     NaN                Bremen         4.0  ChIJh7ETvx4osUcRyTTKEulnwVw   \n",
            "7768      46        Wolfratshausen         9.0  ChIJzyXJjKPGnUcR6pbD81dI7JU   \n",
            "...      ...                   ...         ...                          ...   \n",
            "10769     18              Glauchau        14.0  ChIJ0a9ezKQvp0cR9LyxJpurJao   \n",
            "10563     14                Wismar        13.0  ChIJJzo-TVjHrUcRswybCjK0bIU   \n",
            "8830      36  Neustadt a. d. Aisch         9.0  ChIJn58c59kLokcRVMusIFGWHLw   \n",
            "5006      29                Kassel         6.0  ChIJtwosb2U_u0cRF_gesuG38XE   \n",
            "4216       6             Lippstadt         5.0  ChIJ_fI8VCTUu0cRnlWefvOgJPQ   \n",
            "\n",
            "       bewertung                                          rezension  \\\n",
            "2507           5  Bin die fünfte Woche in der Tagesklinik St. Au...   \n",
            "11482          5  Ich mußte eine OP in der Tagesklinik machen la...   \n",
            "4207           1  Leider wurde uns in der Notfallambulanz überha...   \n",
            "1935           5  Mein Vater wurde letzte Woche an der Hals-Ober...   \n",
            "7768           5  Ich war wegen einer OP durch meine Chirurgin i...   \n",
            "...          ...                                                ...   \n",
            "10769          5  Haben hier vor kurzem entbunden. Alles war top...   \n",
            "10563          1  Wer die Möglichkeit besitzt sollte dringend ei...   \n",
            "8830           5  Beste Einrichtung im Universum\\nAls Ich hier a...   \n",
            "5006           1  Mein Mann wurde morgens etwa um 10 Uhr aufgrun...   \n",
            "4216           5  Es war im Jahr 2020. Nichts ging mehr. Nicht g...   \n",
            "\n",
            "                       zeit  \n",
            "2507           vor 2 Jahren  \n",
            "11482          vor 3 Wochen  \n",
            "4207   in der letzten Woche  \n",
            "1935          vor 3 Monaten  \n",
            "7768        vor einem Monat  \n",
            "...                     ...  \n",
            "10769         vor 2 Monaten  \n",
            "10563       vor einer Woche  \n",
            "8830         vor 10 Monaten  \n",
            "5006        vor einem Monat  \n",
            "4216           vor 2 Jahren  \n",
            "\n",
            "[100 rows x 10 columns]\n"
          ]
        }
      ]
    },
    {
      "cell_type": "markdown",
      "source": [
        "Neues File mit weiteren Covariaten aus dem KHV"
      ],
      "metadata": {
        "id": "TzIPY5jYzaJl"
      }
    },
    {
      "cell_type": "code",
      "source": [
        "# Lade die Krankenhausdaten aus der Excel-Datei\n",
        "khv_df = pd.read_excel('/content/2023_khv.xlsx', sheet_name='Tabelle1')\n",
        "\n",
        "# Lade die Google-Maps-Rezensionen aus der CSV-Datei\n",
        "reviews_df = pd.read_csv('/content/06_data_raw_no_doubles.csv')\n",
        "\n",
        "# Bereinige die Spaltennamen in beiden DataFrames\n",
        "khv_df.columns = khv_df.columns.str.strip()\n",
        "reviews_df.columns = reviews_df.columns.str.strip()\n",
        "\n",
        "#print(khv_df.head())\n",
        "#print(reviews_df.head())\n",
        "#\n",
        "#name = str('Adresse_Name')\n",
        "#strasze = str('Adresse_Strasse_Standort')\n",
        "#hausnr = str('Adresse_Haus-Nr._Standort')\n",
        "#stadt = str('Adresse_Ort_Standort')\n",
        "#ort = f\"{name}, {strasze} {hausnr}, {stadt}\"\n",
        "\n",
        "# Führe die Daten basierend auf dem exakten Krankenhausnamen zusammen\n",
        "merged_df = pd.merge(reviews_df, khv_df, left_on='name', right_on='Adresse_Name', how='left')\n",
        "\n",
        "# Wähle die relevanten Spalten aus, die wir behalten möchten\n",
        "columns_to_keep = [\n",
        "    'ort', 'name', 'strasze', 'hausnr', 'stadt', 'bundesland', 'place_id', 'bewertung', 'rezension', 'zeit',\n",
        "    'Traeger', 'T_Name', 'EinrichtungsTyp', 'Allgemeine_Notfallversorgung',\n",
        "    'Spezielle_Notfallversorgung_Schwerverletzte', 'Spezielle_Notfallversorgung_Kinder',\n",
        "    'Spezielle_Notfallversorgung_Spezial', 'Spezielle_Notfallversorgung_Schlaganfall',\n",
        "    'Spezielle_Notfallversorgung_Durchblutung_Herz', 'INSG'\n",
        "]\n",
        "\n",
        "# Erstelle das finale DataFrame mit den ausgewählten Spalten\n",
        "final_df = merged_df[columns_to_keep]\n",
        "\n",
        "# Speichere das finale DataFrame in eine neue CSV-Datei\n",
        "final_df.to_csv('08_data_and_covariates.csv', index=False, encoding='utf-8-sig')\n",
        "\n",
        "print(\"Die Daten wurden erfolgreich zusammengeführt und in 'merged_krankenhaus_reviews.csv' gespeichert.\")"
      ],
      "metadata": {
        "id": "wtKVf-REzdC1",
        "outputId": "88d5e3a8-0081-4552-ea9e-e9f2ca048fa9",
        "colab": {
          "base_uri": "https://localhost:8080/"
        }
      },
      "execution_count": null,
      "outputs": [
        {
          "output_type": "stream",
          "name": "stdout",
          "text": [
            "Die Daten wurden erfolgreich zusammengeführt und in 'merged_krankenhaus_reviews.csv' gespeichert.\n"
          ]
        }
      ]
    }
  ]
}